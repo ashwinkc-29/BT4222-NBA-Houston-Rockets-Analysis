{
 "cells": [
  {
   "cell_type": "markdown",
   "metadata": {},
   "source": [
    "### Scraping Posts from Reddit\n",
    "\n",
    "Key Resources:\n",
    "* PushshiftAPI\n",
    "* Subreddit \"r/rockets\""
   ]
  },
  {
   "cell_type": "code",
   "execution_count": 1,
   "metadata": {},
   "outputs": [
    {
     "name": "stdout",
     "output_type": "stream",
     "text": [
      "\u001b[33mDEPRECATION: Configuring installation scheme with distutils config files is deprecated and will no longer work in the near future. If you are using a Homebrew or Linuxbrew Python, please see discussion at https://github.com/Homebrew/homebrew-core/issues/76621\u001b[0m\n",
      "Requirement already satisfied: pmaw in /usr/local/lib/python3.7/site-packages (2.1.3)\n",
      "Requirement already satisfied: praw in /usr/local/lib/python3.7/site-packages (from pmaw) (7.5.0)\n",
      "Requirement already satisfied: requests in /usr/local/lib/python3.7/site-packages (from pmaw) (2.22.0)\n",
      "Requirement already satisfied: update-checker>=0.18 in /usr/local/lib/python3.7/site-packages (from praw->pmaw) (0.18.0)\n",
      "Requirement already satisfied: prawcore<3,>=2.1 in /usr/local/lib/python3.7/site-packages (from praw->pmaw) (2.3.0)\n",
      "Requirement already satisfied: websocket-client>=0.54.0 in /usr/local/lib/python3.7/site-packages (from praw->pmaw) (1.3.2)\n",
      "Requirement already satisfied: certifi>=2017.4.17 in /usr/local/lib/python3.7/site-packages (from requests->pmaw) (2019.3.9)\n",
      "Requirement already satisfied: chardet<3.1.0,>=3.0.2 in /usr/local/lib/python3.7/site-packages (from requests->pmaw) (3.0.4)\n",
      "Requirement already satisfied: idna<2.9,>=2.5 in /usr/local/lib/python3.7/site-packages (from requests->pmaw) (2.8)\n",
      "Requirement already satisfied: urllib3!=1.25.0,!=1.25.1,<1.26,>=1.21.1 in /usr/local/lib/python3.7/site-packages (from requests->pmaw) (1.25.3)\n",
      "\u001b[33mWARNING: You are using pip version 21.3; however, version 22.0.4 is available.\n",
      "You should consider upgrading via the '/usr/local/opt/python/bin/python3.7 -m pip install --upgrade pip' command.\u001b[0m\n"
     ]
    }
   ],
   "source": [
    "!pip3 install pmaw      "
   ]
  },
  {
   "cell_type": "code",
   "execution_count": 24,
   "metadata": {},
   "outputs": [],
   "source": [
    "import csv\n",
    "import json\n",
    "import pandas as pd\n",
    "import datetime as dt\n",
    "import tensorflow as tf\n",
    "from pmaw import PushshiftAPI"
   ]
  },
  {
   "cell_type": "code",
   "execution_count": 3,
   "metadata": {},
   "outputs": [],
   "source": [
    "# Initialize\n",
    "api = PushshiftAPI()"
   ]
  },
  {
   "cell_type": "code",
   "execution_count": 71,
   "metadata": {},
   "outputs": [
    {
     "name": "stderr",
     "output_type": "stream",
     "text": [
      "W0414 00:56:07.278820 4598238720 PushshiftAPIBase.py:112] Not all PushShift shards are active. Query results may be incomplete.\n",
      "W0414 00:56:20.895863 4598238720 PushshiftAPIBase.py:112] Not all PushShift shards are active. Query results may be incomplete.\n"
     ]
    },
    {
     "name": "stdout",
     "output_type": "stream",
     "text": [
      "Retrieved 13 comments from Pushshift\n"
     ]
    },
    {
     "name": "stderr",
     "output_type": "stream",
     "text": [
      "W0414 00:56:21.684767 4598238720 PushshiftAPIBase.py:112] Not all PushShift shards are active. Query results may be incomplete.\n",
      "W0414 00:56:29.703513 4598238720 PushshiftAPIBase.py:112] Not all PushShift shards are active. Query results may be incomplete.\n"
     ]
    },
    {
     "name": "stdout",
     "output_type": "stream",
     "text": [
      "Retrieved 14 comments from Pushshift\n"
     ]
    },
    {
     "name": "stderr",
     "output_type": "stream",
     "text": [
      "W0414 00:56:33.085657 4598238720 PushshiftAPIBase.py:112] Not all PushShift shards are active. Query results may be incomplete.\n",
      "W0414 00:56:38.512871 4598238720 PushshiftAPIBase.py:112] Not all PushShift shards are active. Query results may be incomplete.\n"
     ]
    },
    {
     "name": "stdout",
     "output_type": "stream",
     "text": [
      "Retrieved 56 comments from Pushshift\n"
     ]
    },
    {
     "name": "stderr",
     "output_type": "stream",
     "text": [
      "W0414 00:56:38.868333 4598238720 PushshiftAPIBase.py:112] Not all PushShift shards are active. Query results may be incomplete.\n",
      "W0414 00:56:49.494394 4598238720 PushshiftAPIBase.py:112] Not all PushShift shards are active. Query results may be incomplete.\n"
     ]
    },
    {
     "name": "stdout",
     "output_type": "stream",
     "text": [
      "Retrieved 27 comments from Pushshift\n"
     ]
    },
    {
     "name": "stderr",
     "output_type": "stream",
     "text": [
      "W0414 00:56:50.858788 4598238720 PushshiftAPIBase.py:112] Not all PushShift shards are active. Query results may be incomplete.\n",
      "W0414 00:56:59.491376 4598238720 PushshiftAPIBase.py:112] Not all PushShift shards are active. Query results may be incomplete.\n"
     ]
    },
    {
     "name": "stdout",
     "output_type": "stream",
     "text": [
      "Retrieved 16 comments from Pushshift\n"
     ]
    },
    {
     "name": "stderr",
     "output_type": "stream",
     "text": [
      "W0414 00:57:02.456907 4598238720 PushshiftAPIBase.py:112] Not all PushShift shards are active. Query results may be incomplete.\n",
      "W0414 00:57:11.789052 4598238720 PushshiftAPIBase.py:112] Not all PushShift shards are active. Query results may be incomplete.\n"
     ]
    },
    {
     "name": "stdout",
     "output_type": "stream",
     "text": [
      "Retrieved 27 comments from Pushshift\n"
     ]
    },
    {
     "name": "stderr",
     "output_type": "stream",
     "text": [
      "W0414 00:57:20.218074 4598238720 PushshiftAPIBase.py:112] Not all PushShift shards are active. Query results may be incomplete.\n",
      "W0414 00:57:28.276751 4598238720 PushshiftAPIBase.py:112] Not all PushShift shards are active. Query results may be incomplete.\n"
     ]
    },
    {
     "name": "stdout",
     "output_type": "stream",
     "text": [
      "Retrieved 22 comments from Pushshift\n"
     ]
    },
    {
     "name": "stderr",
     "output_type": "stream",
     "text": [
      "W0414 00:57:29.301429 4598238720 PushshiftAPIBase.py:112] Not all PushShift shards are active. Query results may be incomplete.\n",
      "W0414 00:57:36.059504 4598238720 PushshiftAPIBase.py:112] Not all PushShift shards are active. Query results may be incomplete.\n"
     ]
    },
    {
     "name": "stdout",
     "output_type": "stream",
     "text": [
      "Retrieved 20 comments from Pushshift\n"
     ]
    },
    {
     "name": "stderr",
     "output_type": "stream",
     "text": [
      "W0414 00:57:36.980808 4598238720 PushshiftAPIBase.py:112] Not all PushShift shards are active. Query results may be incomplete.\n",
      "W0414 00:57:46.708315 4598238720 PushshiftAPIBase.py:112] Not all PushShift shards are active. Query results may be incomplete.\n",
      "W0414 00:57:47.118637 4598238720 PushshiftAPIBase.py:112] Not all PushShift shards are active. Query results may be incomplete.\n"
     ]
    },
    {
     "name": "stdout",
     "output_type": "stream",
     "text": [
      "Retrieved 20 comments from Pushshift\n"
     ]
    },
    {
     "name": "stderr",
     "output_type": "stream",
     "text": [
      "W0414 00:57:49.990665 4598238720 PushshiftAPIBase.py:112] Not all PushShift shards are active. Query results may be incomplete.\n",
      "W0414 00:57:58.689692 4598238720 PushshiftAPIBase.py:112] Not all PushShift shards are active. Query results may be incomplete.\n"
     ]
    },
    {
     "name": "stdout",
     "output_type": "stream",
     "text": [
      "Retrieved 28 comments from Pushshift\n"
     ]
    },
    {
     "name": "stderr",
     "output_type": "stream",
     "text": [
      "W0414 00:57:59.508708 4598238720 PushshiftAPIBase.py:112] Not all PushShift shards are active. Query results may be incomplete.\n",
      "W0414 00:58:09.748457 4598238720 PushshiftAPIBase.py:112] Not all PushShift shards are active. Query results may be incomplete.\n"
     ]
    },
    {
     "name": "stdout",
     "output_type": "stream",
     "text": [
      "Retrieved 7 comments from Pushshift\n"
     ]
    },
    {
     "name": "stderr",
     "output_type": "stream",
     "text": [
      "W0414 00:58:11.491849 4598238720 PushshiftAPIBase.py:112] Not all PushShift shards are active. Query results may be incomplete.\n",
      "W0414 00:58:21.267127 4598238720 PushshiftAPIBase.py:112] Not all PushShift shards are active. Query results may be incomplete.\n"
     ]
    },
    {
     "name": "stdout",
     "output_type": "stream",
     "text": [
      "Retrieved 17 comments from Pushshift\n"
     ]
    },
    {
     "name": "stderr",
     "output_type": "stream",
     "text": [
      "W0414 00:58:27.157283 4598238720 PushshiftAPIBase.py:112] Not all PushShift shards are active. Query results may be incomplete.\n",
      "W0414 00:58:37.357196 4598238720 PushshiftAPIBase.py:112] Not all PushShift shards are active. Query results may be incomplete.\n"
     ]
    },
    {
     "name": "stdout",
     "output_type": "stream",
     "text": [
      "Retrieved 17 comments from Pushshift\n"
     ]
    },
    {
     "name": "stderr",
     "output_type": "stream",
     "text": [
      "W0414 00:58:38.935287 4598238720 PushshiftAPIBase.py:112] Not all PushShift shards are active. Query results may be incomplete.\n",
      "W0414 00:58:49.880716 4598238720 PushshiftAPIBase.py:112] Not all PushShift shards are active. Query results may be incomplete.\n",
      "W0414 00:58:50.401321 4598238720 PushshiftAPIBase.py:112] Not all PushShift shards are active. Query results may be incomplete.\n"
     ]
    },
    {
     "name": "stdout",
     "output_type": "stream",
     "text": [
      "Retrieved 19 comments from Pushshift\n"
     ]
    },
    {
     "name": "stderr",
     "output_type": "stream",
     "text": [
      "W0414 00:58:52.048747 4598238720 PushshiftAPIBase.py:112] Not all PushShift shards are active. Query results may be incomplete.\n",
      "W0414 00:58:59.399265 4598238720 PushshiftAPIBase.py:112] Not all PushShift shards are active. Query results may be incomplete.\n"
     ]
    },
    {
     "name": "stdout",
     "output_type": "stream",
     "text": [
      "Retrieved 19 comments from Pushshift\n"
     ]
    },
    {
     "name": "stderr",
     "output_type": "stream",
     "text": [
      "W0414 00:59:01.362818 4598238720 PushshiftAPIBase.py:112] Not all PushShift shards are active. Query results may be incomplete.\n",
      "W0414 00:59:07.405024 4598238720 PushshiftAPIBase.py:112] Not all PushShift shards are active. Query results may be incomplete.\n"
     ]
    },
    {
     "name": "stdout",
     "output_type": "stream",
     "text": [
      "Retrieved 17 comments from Pushshift\n"
     ]
    },
    {
     "name": "stderr",
     "output_type": "stream",
     "text": [
      "W0414 00:59:08.016010 4598238720 PushshiftAPIBase.py:112] Not all PushShift shards are active. Query results may be incomplete.\n",
      "W0414 00:59:19.079061 4598238720 PushshiftAPIBase.py:112] Not all PushShift shards are active. Query results may be incomplete.\n"
     ]
    },
    {
     "name": "stdout",
     "output_type": "stream",
     "text": [
      "Retrieved 19 comments from Pushshift\n"
     ]
    },
    {
     "name": "stderr",
     "output_type": "stream",
     "text": [
      "W0414 00:59:23.068694 4598238720 PushshiftAPIBase.py:112] Not all PushShift shards are active. Query results may be incomplete.\n",
      "W0414 00:59:30.472933 4598238720 PushshiftAPIBase.py:112] Not all PushShift shards are active. Query results may be incomplete.\n"
     ]
    },
    {
     "name": "stdout",
     "output_type": "stream",
     "text": [
      "Retrieved 22 comments from Pushshift\n"
     ]
    },
    {
     "name": "stderr",
     "output_type": "stream",
     "text": [
      "W0414 00:59:37.711141 4598238720 PushshiftAPIBase.py:112] Not all PushShift shards are active. Query results may be incomplete.\n",
      "W0414 00:59:49.077590 4598238720 PushshiftAPIBase.py:112] Not all PushShift shards are active. Query results may be incomplete.\n"
     ]
    },
    {
     "name": "stdout",
     "output_type": "stream",
     "text": [
      "Retrieved 26 comments from Pushshift\n"
     ]
    },
    {
     "name": "stderr",
     "output_type": "stream",
     "text": [
      "W0414 00:59:50.716710 4598238720 PushshiftAPIBase.py:112] Not all PushShift shards are active. Query results may be incomplete.\n",
      "W0414 01:00:01.570013 4598238720 PushshiftAPIBase.py:112] Not all PushShift shards are active. Query results may be incomplete.\n"
     ]
    },
    {
     "name": "stdout",
     "output_type": "stream",
     "text": [
      "Retrieved 38 comments from Pushshift\n"
     ]
    },
    {
     "name": "stderr",
     "output_type": "stream",
     "text": [
      "W0414 01:00:02.493562 4598238720 PushshiftAPIBase.py:112] Not all PushShift shards are active. Query results may be incomplete.\n",
      "W0414 01:00:03.926172 4598238720 PushshiftAPIBase.py:112] Not all PushShift shards are active. Query results may be incomplete.\n",
      "W0414 01:00:05.870919 4598238720 PushshiftAPIBase.py:112] Not all PushShift shards are active. Query results may be incomplete.\n"
     ]
    },
    {
     "name": "stdout",
     "output_type": "stream",
     "text": [
      "Retrieved 22 comments from Pushshift\n"
     ]
    },
    {
     "name": "stderr",
     "output_type": "stream",
     "text": [
      "W0414 01:00:08.127586 4598238720 PushshiftAPIBase.py:112] Not all PushShift shards are active. Query results may be incomplete.\n",
      "W0414 01:00:19.188492 4598238720 PushshiftAPIBase.py:112] Not all PushShift shards are active. Query results may be incomplete.\n"
     ]
    },
    {
     "name": "stdout",
     "output_type": "stream",
     "text": [
      "Retrieved 35 comments from Pushshift\n"
     ]
    },
    {
     "name": "stderr",
     "output_type": "stream",
     "text": [
      "W0414 01:00:23.837013 4598238720 PushshiftAPIBase.py:112] Not all PushShift shards are active. Query results may be incomplete.\n",
      "W0414 01:00:36.596415 4598238720 PushshiftAPIBase.py:112] Not all PushShift shards are active. Query results may be incomplete.\n"
     ]
    },
    {
     "name": "stdout",
     "output_type": "stream",
     "text": [
      "Retrieved 27 comments from Pushshift\n"
     ]
    },
    {
     "name": "stderr",
     "output_type": "stream",
     "text": [
      "W0414 01:00:38.357656 4598238720 PushshiftAPIBase.py:112] Not all PushShift shards are active. Query results may be incomplete.\n",
      "W0414 01:00:48.970534 4598238720 PushshiftAPIBase.py:112] Not all PushShift shards are active. Query results may be incomplete.\n"
     ]
    },
    {
     "name": "stdout",
     "output_type": "stream",
     "text": [
      "Retrieved 35 comments from Pushshift\n"
     ]
    },
    {
     "name": "stderr",
     "output_type": "stream",
     "text": [
      "W0414 01:00:49.573628 4598238720 PushshiftAPIBase.py:112] Not all PushShift shards are active. Query results may be incomplete.\n",
      "W0414 01:01:00.862804 4598238720 PushshiftAPIBase.py:112] Not all PushShift shards are active. Query results may be incomplete.\n"
     ]
    },
    {
     "name": "stdout",
     "output_type": "stream",
     "text": [
      "Retrieved 27 comments from Pushshift\n"
     ]
    },
    {
     "name": "stderr",
     "output_type": "stream",
     "text": [
      "W0414 01:01:02.805775 4598238720 PushshiftAPIBase.py:112] Not all PushShift shards are active. Query results may be incomplete.\n",
      "W0414 01:01:03.920976 4598238720 PushshiftAPIBase.py:112] Not all PushShift shards are active. Query results may be incomplete.\n",
      "W0414 01:01:06.288084 4598238720 PushshiftAPIBase.py:112] Not all PushShift shards are active. Query results may be incomplete.\n"
     ]
    },
    {
     "name": "stdout",
     "output_type": "stream",
     "text": [
      "Retrieved 16 comments from Pushshift\n"
     ]
    },
    {
     "name": "stderr",
     "output_type": "stream",
     "text": [
      "W0414 01:01:09.055243 4598238720 PushshiftAPIBase.py:112] Not all PushShift shards are active. Query results may be incomplete.\n",
      "W0414 01:01:20.213752 4598238720 PushshiftAPIBase.py:112] Not all PushShift shards are active. Query results may be incomplete.\n"
     ]
    },
    {
     "name": "stdout",
     "output_type": "stream",
     "text": [
      "Retrieved 54 comments from Pushshift\n"
     ]
    },
    {
     "name": "stderr",
     "output_type": "stream",
     "text": [
      "W0414 01:01:23.491927 4598238720 PushshiftAPIBase.py:112] Not all PushShift shards are active. Query results may be incomplete.\n",
      "W0414 01:01:41.206521 4598238720 PushshiftAPIBase.py:112] Not all PushShift shards are active. Query results may be incomplete.\n"
     ]
    },
    {
     "name": "stdout",
     "output_type": "stream",
     "text": [
      "Retrieved 16 comments from Pushshift\n"
     ]
    },
    {
     "name": "stderr",
     "output_type": "stream",
     "text": [
      "W0414 01:01:43.088076 4598238720 PushshiftAPIBase.py:112] Not all PushShift shards are active. Query results may be incomplete.\n",
      "W0414 01:01:49.193401 4598238720 PushshiftAPIBase.py:112] Not all PushShift shards are active. Query results may be incomplete.\n"
     ]
    },
    {
     "name": "stdout",
     "output_type": "stream",
     "text": [
      "Retrieved 11 comments from Pushshift\n"
     ]
    },
    {
     "name": "stderr",
     "output_type": "stream",
     "text": [
      "W0414 01:01:49.520231 4598238720 PushshiftAPIBase.py:112] Not all PushShift shards are active. Query results may be incomplete.\n",
      "W0414 01:02:00.661539 4598238720 PushshiftAPIBase.py:112] Not all PushShift shards are active. Query results may be incomplete.\n"
     ]
    },
    {
     "name": "stdout",
     "output_type": "stream",
     "text": [
      "Retrieved 14 comments from Pushshift\n"
     ]
    },
    {
     "name": "stderr",
     "output_type": "stream",
     "text": [
      "W0414 01:02:03.629853 4598238720 PushshiftAPIBase.py:112] Not all PushShift shards are active. Query results may be incomplete.\n",
      "W0414 01:02:04.778666 4598238720 PushshiftAPIBase.py:112] Not all PushShift shards are active. Query results may be incomplete.\n",
      "W0414 01:02:06.347232 4598238720 PushshiftAPIBase.py:112] Not all PushShift shards are active. Query results may be incomplete.\n",
      "W0414 01:02:09.467599 4598238720 PushshiftAPIBase.py:112] Not all PushShift shards are active. Query results may be incomplete.\n"
     ]
    },
    {
     "name": "stdout",
     "output_type": "stream",
     "text": [
      "Retrieved 4 comments from Pushshift\n"
     ]
    },
    {
     "name": "stderr",
     "output_type": "stream",
     "text": [
      "W0414 01:02:15.112673 4598238720 PushshiftAPIBase.py:112] Not all PushShift shards are active. Query results may be incomplete.\n",
      "W0414 01:02:25.544666 4598238720 PushshiftAPIBase.py:112] Not all PushShift shards are active. Query results may be incomplete.\n"
     ]
    },
    {
     "name": "stdout",
     "output_type": "stream",
     "text": [
      "Retrieved 20 comments from Pushshift\n"
     ]
    },
    {
     "name": "stderr",
     "output_type": "stream",
     "text": [
      "W0414 01:02:34.558048 4598238720 PushshiftAPIBase.py:112] Not all PushShift shards are active. Query results may be incomplete.\n",
      "W0414 01:02:42.646118 4598238720 PushshiftAPIBase.py:112] Not all PushShift shards are active. Query results may be incomplete.\n"
     ]
    },
    {
     "name": "stdout",
     "output_type": "stream",
     "text": [
      "Retrieved 5 comments from Pushshift\n"
     ]
    },
    {
     "name": "stderr",
     "output_type": "stream",
     "text": [
      "W0414 01:02:44.899981 4598238720 PushshiftAPIBase.py:112] Not all PushShift shards are active. Query results may be incomplete.\n",
      "W0414 01:02:52.274931 4598238720 PushshiftAPIBase.py:112] Not all PushShift shards are active. Query results may be incomplete.\n"
     ]
    },
    {
     "name": "stdout",
     "output_type": "stream",
     "text": [
      "Retrieved 9 comments from Pushshift\n"
     ]
    },
    {
     "name": "stderr",
     "output_type": "stream",
     "text": [
      "W0414 01:02:53.706215 4598238720 PushshiftAPIBase.py:112] Not all PushShift shards are active. Query results may be incomplete.\n",
      "W0414 01:03:02.006138 4598238720 PushshiftAPIBase.py:112] Not all PushShift shards are active. Query results may be incomplete.\n"
     ]
    },
    {
     "name": "stdout",
     "output_type": "stream",
     "text": [
      "Retrieved 8 comments from Pushshift\n"
     ]
    },
    {
     "name": "stderr",
     "output_type": "stream",
     "text": [
      "W0414 01:03:05.175315 4598238720 PushshiftAPIBase.py:112] Not all PushShift shards are active. Query results may be incomplete.\n",
      "W0414 01:03:06.305665 4598238720 PushshiftAPIBase.py:112] Not all PushShift shards are active. Query results may be incomplete.\n",
      "W0414 01:03:10.710575 4598238720 PushshiftAPIBase.py:112] Not all PushShift shards are active. Query results may be incomplete.\n"
     ]
    },
    {
     "name": "stdout",
     "output_type": "stream",
     "text": [
      "Retrieved 4 comments from Pushshift\n"
     ]
    },
    {
     "name": "stderr",
     "output_type": "stream",
     "text": [
      "W0414 01:03:19.613212 4598238720 PushshiftAPIBase.py:112] Not all PushShift shards are active. Query results may be incomplete.\n",
      "W0414 01:03:28.828768 4598238720 PushshiftAPIBase.py:112] Not all PushShift shards are active. Query results may be incomplete.\n"
     ]
    },
    {
     "name": "stdout",
     "output_type": "stream",
     "text": [
      "Retrieved 7 comments from Pushshift\n"
     ]
    },
    {
     "name": "stderr",
     "output_type": "stream",
     "text": [
      "W0414 01:03:40.100378 4598238720 PushshiftAPIBase.py:112] Not all PushShift shards are active. Query results may be incomplete.\n",
      "W0414 01:03:45.860991 4598238720 PushshiftAPIBase.py:112] Not all PushShift shards are active. Query results may be incomplete.\n"
     ]
    },
    {
     "name": "stdout",
     "output_type": "stream",
     "text": [
      "Retrieved 13 comments from Pushshift\n"
     ]
    },
    {
     "name": "stderr",
     "output_type": "stream",
     "text": [
      "W0414 01:03:53.098169 4598238720 PushshiftAPIBase.py:112] Not all PushShift shards are active. Query results may be incomplete.\n",
      "W0414 01:03:57.195542 4598238720 PushshiftAPIBase.py:112] Not all PushShift shards are active. Query results may be incomplete.\n",
      "W0414 01:03:57.604578 4598238720 PushshiftAPIBase.py:112] Not all PushShift shards are active. Query results may be incomplete.\n"
     ]
    },
    {
     "name": "stdout",
     "output_type": "stream",
     "text": [
      "Retrieved 13 comments from Pushshift\n"
     ]
    },
    {
     "name": "stderr",
     "output_type": "stream",
     "text": [
      "W0414 01:03:59.139210 4598238720 PushshiftAPIBase.py:112] Not all PushShift shards are active. Query results may be incomplete.\n",
      "W0414 01:04:07.231146 4598238720 PushshiftAPIBase.py:112] Not all PushShift shards are active. Query results may be incomplete.\n",
      "W0414 01:04:07.638939 4598238720 PushshiftAPIBase.py:112] Not all PushShift shards are active. Query results may be incomplete.\n"
     ]
    },
    {
     "name": "stdout",
     "output_type": "stream",
     "text": [
      "Retrieved 12 comments from Pushshift\n",
      "Retrieved 0 comments from Pushshift\n",
      "Retrieved 0 comments from Pushshift\n"
     ]
    },
    {
     "name": "stderr",
     "output_type": "stream",
     "text": [
      "W0414 01:04:10.098842 4598238720 PushshiftAPIBase.py:112] Not all PushShift shards are active. Query results may be incomplete.\n",
      "W0414 01:04:19.006091 4598238720 PushshiftAPIBase.py:112] Not all PushShift shards are active. Query results may be incomplete.\n",
      "W0414 01:04:20.950825 4598238720 PushshiftAPIBase.py:112] Not all PushShift shards are active. Query results may be incomplete.\n"
     ]
    },
    {
     "name": "stdout",
     "output_type": "stream",
     "text": [
      "Retrieved 16 comments from Pushshift\n"
     ]
    },
    {
     "name": "stderr",
     "output_type": "stream",
     "text": [
      "W0414 01:04:22.491268 4598238720 PushshiftAPIBase.py:112] Not all PushShift shards are active. Query results may be incomplete.\n",
      "W0414 01:04:30.782597 4598238720 PushshiftAPIBase.py:112] Not all PushShift shards are active. Query results may be incomplete.\n"
     ]
    },
    {
     "name": "stdout",
     "output_type": "stream",
     "text": [
      "Retrieved 16 comments from Pushshift\n"
     ]
    },
    {
     "name": "stderr",
     "output_type": "stream",
     "text": [
      "W0414 01:04:41.466363 4598238720 PushshiftAPIBase.py:112] Not all PushShift shards are active. Query results may be incomplete.\n",
      "W0414 01:04:48.087736 4598238720 PushshiftAPIBase.py:112] Not all PushShift shards are active. Query results may be incomplete.\n"
     ]
    },
    {
     "name": "stdout",
     "output_type": "stream",
     "text": [
      "Retrieved 9 comments from Pushshift\n"
     ]
    },
    {
     "name": "stderr",
     "output_type": "stream",
     "text": [
      "W0414 01:04:54.747664 4598238720 PushshiftAPIBase.py:112] Not all PushShift shards are active. Query results may be incomplete.\n",
      "W0414 01:04:58.527606 4598238720 PushshiftAPIBase.py:112] Not all PushShift shards are active. Query results may be incomplete.\n"
     ]
    },
    {
     "name": "stdout",
     "output_type": "stream",
     "text": [
      "Retrieved 9 comments from Pushshift\n"
     ]
    },
    {
     "name": "stderr",
     "output_type": "stream",
     "text": [
      "W0414 01:05:04.474241 4598238720 PushshiftAPIBase.py:112] Not all PushShift shards are active. Query results may be incomplete.\n",
      "W0414 01:05:07.652410 4598238720 PushshiftAPIBase.py:112] Not all PushShift shards are active. Query results may be incomplete.\n",
      "W0414 01:05:09.386255 4598238720 PushshiftAPIBase.py:112] Not all PushShift shards are active. Query results may be incomplete.\n",
      "W0414 01:05:09.898189 4598238720 PushshiftAPIBase.py:112] Not all PushShift shards are active. Query results may be incomplete.\n"
     ]
    },
    {
     "name": "stdout",
     "output_type": "stream",
     "text": [
      "Retrieved 13 comments from Pushshift\n"
     ]
    },
    {
     "name": "stderr",
     "output_type": "stream",
     "text": [
      "W0414 01:05:11.743555 4598238720 PushshiftAPIBase.py:112] Not all PushShift shards are active. Query results may be incomplete.\n",
      "W0414 01:05:19.372721 4598238720 PushshiftAPIBase.py:112] Not all PushShift shards are active. Query results may be incomplete.\n",
      "W0414 01:05:22.087153 4598238720 PushshiftAPIBase.py:112] Not all PushShift shards are active. Query results may be incomplete.\n"
     ]
    },
    {
     "name": "stdout",
     "output_type": "stream",
     "text": [
      "Retrieved 11 comments from Pushshift\n"
     ]
    },
    {
     "name": "stderr",
     "output_type": "stream",
     "text": [
      "W0414 01:05:27.207607 4598238720 PushshiftAPIBase.py:112] Not all PushShift shards are active. Query results may be incomplete.\n",
      "W0414 01:05:33.347882 4598238720 PushshiftAPIBase.py:112] Not all PushShift shards are active. Query results may be incomplete.\n"
     ]
    },
    {
     "name": "stdout",
     "output_type": "stream",
     "text": [
      "Retrieved 18 comments from Pushshift\n"
     ]
    },
    {
     "name": "stderr",
     "output_type": "stream",
     "text": [
      "W0414 01:05:43.075016 4598238720 PushshiftAPIBase.py:112] Not all PushShift shards are active. Query results may be incomplete.\n",
      "W0414 01:05:52.439793 4598238720 PushshiftAPIBase.py:112] Not all PushShift shards are active. Query results may be incomplete.\n"
     ]
    },
    {
     "name": "stdout",
     "output_type": "stream",
     "text": [
      "Retrieved 19 comments from Pushshift\n"
     ]
    },
    {
     "name": "stderr",
     "output_type": "stream",
     "text": [
      "W0414 01:05:56.596103 4598238720 PushshiftAPIBase.py:112] Not all PushShift shards are active. Query results may be incomplete.\n",
      "W0414 01:05:59.664858 4598238720 PushshiftAPIBase.py:112] Not all PushShift shards are active. Query results may be incomplete.\n",
      "W0414 01:06:04.802010 4598238720 PushshiftAPIBase.py:112] Not all PushShift shards are active. Query results may be incomplete.\n"
     ]
    },
    {
     "name": "stdout",
     "output_type": "stream",
     "text": [
      "Retrieved 26 comments from Pushshift\n"
     ]
    },
    {
     "name": "stderr",
     "output_type": "stream",
     "text": [
      "W0414 01:06:08.289337 4598238720 PushshiftAPIBase.py:112] Not all PushShift shards are active. Query results may be incomplete.\n",
      "W0414 01:06:10.487010 4598238720 PushshiftAPIBase.py:112] Not all PushShift shards are active. Query results may be incomplete.\n",
      "W0414 01:06:12.062893 4598238720 PushshiftAPIBase.py:112] Not all PushShift shards are active. Query results may be incomplete.\n"
     ]
    },
    {
     "name": "stdout",
     "output_type": "stream",
     "text": [
      "Retrieved 16 comments from Pushshift\n",
      "Retrieved 0 comments from Pushshift\n"
     ]
    },
    {
     "name": "stderr",
     "output_type": "stream",
     "text": [
      "W0414 01:06:13.881989 4598238720 PushshiftAPIBase.py:112] Not all PushShift shards are active. Query results may be incomplete.\n",
      "W0414 01:06:21.784338 4598238720 PushshiftAPIBase.py:112] Not all PushShift shards are active. Query results may be incomplete.\n",
      "W0414 01:06:24.444272 4598238720 PushshiftAPIBase.py:112] Not all PushShift shards are active. Query results may be incomplete.\n"
     ]
    },
    {
     "name": "stdout",
     "output_type": "stream",
     "text": [
      "Retrieved 19 comments from Pushshift\n"
     ]
    },
    {
     "name": "stderr",
     "output_type": "stream",
     "text": [
      "W0414 01:06:29.873583 4598238720 PushshiftAPIBase.py:112] Not all PushShift shards are active. Query results may be incomplete.\n",
      "W0414 01:06:35.526751 4598238720 PushshiftAPIBase.py:112] Not all PushShift shards are active. Query results may be incomplete.\n"
     ]
    },
    {
     "name": "stdout",
     "output_type": "stream",
     "text": [
      "Retrieved 24 comments from Pushshift\n"
     ]
    },
    {
     "name": "stderr",
     "output_type": "stream",
     "text": [
      "W0414 01:06:46.686033 4598238720 PushshiftAPIBase.py:112] Not all PushShift shards are active. Query results may be incomplete.\n",
      "W0414 01:06:54.858929 4598238720 PushshiftAPIBase.py:112] Not all PushShift shards are active. Query results may be incomplete.\n"
     ]
    },
    {
     "name": "stdout",
     "output_type": "stream",
     "text": [
      "Retrieved 21 comments from Pushshift\n"
     ]
    },
    {
     "name": "stderr",
     "output_type": "stream",
     "text": [
      "W0414 01:07:00.289443 4598238720 PushshiftAPIBase.py:112] Not all PushShift shards are active. Query results may be incomplete.\n",
      "W0414 01:07:08.375607 4598238720 PushshiftAPIBase.py:112] Not all PushShift shards are active. Query results may be incomplete.\n"
     ]
    },
    {
     "name": "stdout",
     "output_type": "stream",
     "text": [
      "Retrieved 15 comments from Pushshift\n"
     ]
    },
    {
     "name": "stderr",
     "output_type": "stream",
     "text": [
      "W0414 01:07:10.211959 4598238720 PushshiftAPIBase.py:112] Not all PushShift shards are active. Query results may be incomplete.\n",
      "W0414 01:07:11.965162 4598238720 PushshiftAPIBase.py:112] Not all PushShift shards are active. Query results may be incomplete.\n",
      "W0414 01:07:14.373630 4598238720 PushshiftAPIBase.py:112] Not all PushShift shards are active. Query results may be incomplete.\n",
      "W0414 01:07:15.468133 4598238720 PushshiftAPIBase.py:112] Not all PushShift shards are active. Query results may be incomplete.\n"
     ]
    },
    {
     "name": "stdout",
     "output_type": "stream",
     "text": [
      "Retrieved 10 comments from Pushshift\n"
     ]
    },
    {
     "name": "stderr",
     "output_type": "stream",
     "text": [
      "W0414 01:07:20.766880 4598238720 PushshiftAPIBase.py:112] Not all PushShift shards are active. Query results may be incomplete.\n",
      "W0414 01:07:24.816179 4598238720 PushshiftAPIBase.py:112] Not all PushShift shards are active. Query results may be incomplete.\n",
      "W0414 01:07:31.281236 4598238720 PushshiftAPIBase.py:112] Not all PushShift shards are active. Query results may be incomplete.\n"
     ]
    },
    {
     "name": "stdout",
     "output_type": "stream",
     "text": [
      "Retrieved 41 comments from Pushshift\n"
     ]
    },
    {
     "name": "stderr",
     "output_type": "stream",
     "text": [
      "W0414 01:07:33.075769 4598238720 PushshiftAPIBase.py:112] Not all PushShift shards are active. Query results may be incomplete.\n",
      "W0414 01:07:36.833305 4598238720 PushshiftAPIBase.py:112] Not all PushShift shards are active. Query results may be incomplete.\n"
     ]
    },
    {
     "name": "stdout",
     "output_type": "stream",
     "text": [
      "Retrieved 15 comments from Pushshift\n"
     ]
    },
    {
     "name": "stderr",
     "output_type": "stream",
     "text": [
      "W0414 01:07:51.085417 4598238720 PushshiftAPIBase.py:112] Not all PushShift shards are active. Query results may be incomplete.\n",
      "W0414 01:07:58.289285 4598238720 PushshiftAPIBase.py:112] Not all PushShift shards are active. Query results may be incomplete.\n"
     ]
    },
    {
     "name": "stdout",
     "output_type": "stream",
     "text": [
      "Retrieved 21 comments from Pushshift\n"
     ]
    },
    {
     "name": "stderr",
     "output_type": "stream",
     "text": [
      "W0414 01:08:04.392189 4598238720 PushshiftAPIBase.py:112] Not all PushShift shards are active. Query results may be incomplete.\n",
      "W0414 01:08:09.617755 4598238720 PushshiftAPIBase.py:112] Not all PushShift shards are active. Query results may be incomplete.\n"
     ]
    },
    {
     "name": "stdout",
     "output_type": "stream",
     "text": [
      "Retrieved 17 comments from Pushshift\n"
     ]
    },
    {
     "name": "stderr",
     "output_type": "stream",
     "text": [
      "W0414 01:08:12.282381 4598238720 PushshiftAPIBase.py:112] Not all PushShift shards are active. Query results may be incomplete.\n",
      "W0414 01:08:13.443441 4598238720 PushshiftAPIBase.py:112] Not all PushShift shards are active. Query results may be incomplete.\n",
      "W0414 01:08:22.010872 4598238720 PushshiftAPIBase.py:112] Not all PushShift shards are active. Query results may be incomplete.\n"
     ]
    },
    {
     "name": "stdout",
     "output_type": "stream",
     "text": [
      "Retrieved 14 comments from Pushshift\n"
     ]
    },
    {
     "name": "stderr",
     "output_type": "stream",
     "text": [
      "W0414 01:08:23.789299 4598238720 PushshiftAPIBase.py:112] Not all PushShift shards are active. Query results may be incomplete.\n",
      "W0414 01:08:34.301178 4598238720 PushshiftAPIBase.py:112] Not all PushShift shards are active. Query results may be incomplete.\n",
      "W0414 01:08:35.327425 4598238720 PushshiftAPIBase.py:112] Not all PushShift shards are active. Query results may be incomplete.\n"
     ]
    },
    {
     "name": "stdout",
     "output_type": "stream",
     "text": [
      "Retrieved 37 comments from Pushshift\n"
     ]
    },
    {
     "name": "stderr",
     "output_type": "stream",
     "text": [
      "W0414 01:08:36.145678 4598238720 PushshiftAPIBase.py:112] Not all PushShift shards are active. Query results may be incomplete.\n",
      "W0414 01:08:45.569802 4598238720 PushshiftAPIBase.py:112] Not all PushShift shards are active. Query results may be incomplete.\n"
     ]
    },
    {
     "name": "stdout",
     "output_type": "stream",
     "text": [
      "Retrieved 20 comments from Pushshift\n"
     ]
    },
    {
     "name": "stderr",
     "output_type": "stream",
     "text": [
      "W0414 01:08:59.083609 4598238720 PushshiftAPIBase.py:112] Not all PushShift shards are active. Query results may be incomplete.\n",
      "W0414 01:09:10.240105 4598238720 PushshiftAPIBase.py:112] Not all PushShift shards are active. Query results may be incomplete.\n"
     ]
    },
    {
     "name": "stdout",
     "output_type": "stream",
     "text": [
      "Retrieved 16 comments from Pushshift\n"
     ]
    },
    {
     "name": "stderr",
     "output_type": "stream",
     "text": [
      "W0414 01:09:12.466492 4598238720 PushshiftAPIBase.py:112] Not all PushShift shards are active. Query results may be incomplete.\n",
      "W0414 01:09:13.740587 4598238720 PushshiftAPIBase.py:112] Not all PushShift shards are active. Query results may be incomplete.\n",
      "W0414 01:09:14.862113 4598238720 PushshiftAPIBase.py:112] Not all PushShift shards are active. Query results may be incomplete.\n",
      "W0414 01:09:16.286880 4598238720 PushshiftAPIBase.py:112] Not all PushShift shards are active. Query results may be incomplete.\n"
     ]
    },
    {
     "name": "stdout",
     "output_type": "stream",
     "text": [
      "Retrieved 20 comments from Pushshift\n"
     ]
    },
    {
     "name": "stderr",
     "output_type": "stream",
     "text": [
      "W0414 01:09:18.628113 4598238720 PushshiftAPIBase.py:112] Not all PushShift shards are active. Query results may be incomplete.\n",
      "W0414 01:09:24.990185 4598238720 PushshiftAPIBase.py:112] Not all PushShift shards are active. Query results may be incomplete.\n",
      "W0414 01:09:28.657905 4598238720 PushshiftAPIBase.py:112] Not all PushShift shards are active. Query results may be incomplete.\n"
     ]
    },
    {
     "name": "stdout",
     "output_type": "stream",
     "text": [
      "Retrieved 36 comments from Pushshift\n"
     ]
    },
    {
     "name": "stderr",
     "output_type": "stream",
     "text": [
      "W0414 01:09:29.526922 4598238720 PushshiftAPIBase.py:112] Not all PushShift shards are active. Query results may be incomplete.\n",
      "W0414 01:09:39.432353 4598238720 PushshiftAPIBase.py:112] Not all PushShift shards are active. Query results may be incomplete.\n"
     ]
    },
    {
     "name": "stdout",
     "output_type": "stream",
     "text": [
      "Retrieved 11 comments from Pushshift\n"
     ]
    },
    {
     "name": "stderr",
     "output_type": "stream",
     "text": [
      "W0414 01:09:40.023144 4598238720 PushshiftAPIBase.py:112] Not all PushShift shards are active. Query results may be incomplete.\n",
      "W0414 01:09:49.977837 4598238720 PushshiftAPIBase.py:112] Not all PushShift shards are active. Query results may be incomplete.\n"
     ]
    },
    {
     "name": "stdout",
     "output_type": "stream",
     "text": [
      "Retrieved 15 comments from Pushshift\n"
     ]
    },
    {
     "name": "stderr",
     "output_type": "stream",
     "text": [
      "W0414 01:10:04.191460 4598238720 PushshiftAPIBase.py:112] Not all PushShift shards are active. Query results may be incomplete.\n",
      "W0414 01:10:14.440015 4598238720 PushshiftAPIBase.py:112] Not all PushShift shards are active. Query results may be incomplete.\n"
     ]
    },
    {
     "name": "stdout",
     "output_type": "stream",
     "text": [
      "Retrieved 35 comments from Pushshift\n"
     ]
    },
    {
     "name": "stderr",
     "output_type": "stream",
     "text": [
      "W0414 01:10:16.005589 4598238720 PushshiftAPIBase.py:112] Not all PushShift shards are active. Query results may be incomplete.\n",
      "W0414 01:10:17.162007 4598238720 PushshiftAPIBase.py:112] Not all PushShift shards are active. Query results may be incomplete.\n",
      "W0414 01:10:21.934874 4598238720 PushshiftAPIBase.py:112] Not all PushShift shards are active. Query results may be incomplete.\n",
      "W0414 01:10:22.278847 4598238720 PushshiftAPIBase.py:112] Not all PushShift shards are active. Query results may be incomplete.\n"
     ]
    },
    {
     "name": "stdout",
     "output_type": "stream",
     "text": [
      "Retrieved 23 comments from Pushshift\n"
     ]
    },
    {
     "name": "stderr",
     "output_type": "stream",
     "text": [
      "W0414 01:10:27.464357 4598238720 PushshiftAPIBase.py:112] Not all PushShift shards are active. Query results may be incomplete.\n",
      "W0414 01:10:30.836752 4598238720 PushshiftAPIBase.py:112] Not all PushShift shards are active. Query results may be incomplete.\n",
      "W0414 01:10:33.807450 4598238720 PushshiftAPIBase.py:112] Not all PushShift shards are active. Query results may be incomplete.\n"
     ]
    },
    {
     "name": "stdout",
     "output_type": "stream",
     "text": [
      "Retrieved 29 comments from Pushshift\n"
     ]
    },
    {
     "name": "stderr",
     "output_type": "stream",
     "text": [
      "W0414 01:10:40.163066 4598238720 PushshiftAPIBase.py:112] Not all PushShift shards are active. Query results may be incomplete.\n",
      "W0414 01:10:43.364271 4598238720 PushshiftAPIBase.py:112] Not all PushShift shards are active. Query results may be incomplete.\n",
      "W0414 01:10:45.172019 4598238720 PushshiftAPIBase.py:112] Not all PushShift shards are active. Query results may be incomplete.\n"
     ]
    },
    {
     "name": "stdout",
     "output_type": "stream",
     "text": [
      "Retrieved 21 comments from Pushshift\n"
     ]
    },
    {
     "name": "stderr",
     "output_type": "stream",
     "text": [
      "W0414 01:10:47.405211 4598238720 PushshiftAPIBase.py:112] Not all PushShift shards are active. Query results may be incomplete.\n",
      "W0414 01:10:56.332518 4598238720 PushshiftAPIBase.py:112] Not all PushShift shards are active. Query results may be incomplete.\n"
     ]
    },
    {
     "name": "stdout",
     "output_type": "stream",
     "text": [
      "Retrieved 33 comments from Pushshift\n"
     ]
    },
    {
     "name": "stderr",
     "output_type": "stream",
     "text": [
      "W0414 01:11:10.877923 4598238720 PushshiftAPIBase.py:112] Not all PushShift shards are active. Query results may be incomplete.\n",
      "W0414 01:11:19.817649 4598238720 PushshiftAPIBase.py:112] Not all PushShift shards are active. Query results may be incomplete.\n"
     ]
    },
    {
     "name": "stdout",
     "output_type": "stream",
     "text": [
      "Retrieved 12 comments from Pushshift\n"
     ]
    },
    {
     "name": "stderr",
     "output_type": "stream",
     "text": [
      "W0414 01:11:21.428662 4598238720 PushshiftAPIBase.py:112] Not all PushShift shards are active. Query results may be incomplete.\n",
      "W0414 01:11:22.961906 4598238720 PushshiftAPIBase.py:112] Not all PushShift shards are active. Query results may be incomplete.\n",
      "W0414 01:11:28.794375 4598238720 PushshiftAPIBase.py:112] Not all PushShift shards are active. Query results may be incomplete.\n"
     ]
    },
    {
     "name": "stdout",
     "output_type": "stream",
     "text": [
      "Retrieved 11 comments from Pushshift\n"
     ]
    },
    {
     "name": "stderr",
     "output_type": "stream",
     "text": [
      "W0414 01:11:30.741186 4598238720 PushshiftAPIBase.py:112] Not all PushShift shards are active. Query results may be incomplete.\n",
      "W0414 01:11:35.046720 4598238720 PushshiftAPIBase.py:112] Not all PushShift shards are active. Query results may be incomplete.\n",
      "W0414 01:11:42.725471 4598238720 PushshiftAPIBase.py:112] Not all PushShift shards are active. Query results may be incomplete.\n"
     ]
    },
    {
     "name": "stdout",
     "output_type": "stream",
     "text": [
      "Retrieved 23 comments from Pushshift\n"
     ]
    },
    {
     "name": "stderr",
     "output_type": "stream",
     "text": [
      "W0414 01:11:44.444379 4598238720 PushshiftAPIBase.py:112] Not all PushShift shards are active. Query results may be incomplete.\n",
      "W0414 01:11:50.923909 4598238720 PushshiftAPIBase.py:112] Not all PushShift shards are active. Query results may be incomplete.\n",
      "W0414 01:11:52.142642 4598238720 PushshiftAPIBase.py:112] Not all PushShift shards are active. Query results may be incomplete.\n"
     ]
    },
    {
     "name": "stdout",
     "output_type": "stream",
     "text": [
      "Retrieved 20 comments from Pushshift\n"
     ]
    },
    {
     "name": "stderr",
     "output_type": "stream",
     "text": [
      "W0414 01:11:53.760576 4598238720 PushshiftAPIBase.py:112] Not all PushShift shards are active. Query results may be incomplete.\n",
      "W0414 01:11:57.772703 4598238720 PushshiftAPIBase.py:112] Not all PushShift shards are active. Query results may be incomplete.\n"
     ]
    },
    {
     "name": "stdout",
     "output_type": "stream",
     "text": [
      "Retrieved 22 comments from Pushshift\n"
     ]
    },
    {
     "name": "stderr",
     "output_type": "stream",
     "text": [
      "W0414 01:12:16.819255 4598238720 PushshiftAPIBase.py:112] Not all PushShift shards are active. Query results may be incomplete.\n",
      "W0414 01:12:26.753702 4598238720 PushshiftAPIBase.py:112] Not all PushShift shards are active. Query results may be incomplete.\n"
     ]
    },
    {
     "name": "stdout",
     "output_type": "stream",
     "text": [
      "Retrieved 10 comments from Pushshift\n"
     ]
    },
    {
     "name": "stderr",
     "output_type": "stream",
     "text": [
      "W0414 01:12:29.424757 4598238720 PushshiftAPIBase.py:112] Not all PushShift shards are active. Query results may be incomplete.\n",
      "W0414 01:12:30.557243 4598238720 PushshiftAPIBase.py:112] Not all PushShift shards are active. Query results may be incomplete.\n",
      "W0414 01:12:33.136589 4598238720 PushshiftAPIBase.py:112] Not all PushShift shards are active. Query results may be incomplete.\n"
     ]
    },
    {
     "name": "stdout",
     "output_type": "stream",
     "text": [
      "Retrieved 31 comments from Pushshift\n"
     ]
    },
    {
     "name": "stderr",
     "output_type": "stream",
     "text": [
      "W0414 01:12:34.677713 4598238720 PushshiftAPIBase.py:112] Not all PushShift shards are active. Query results may be incomplete.\n",
      "W0414 01:12:41.562051 4598238720 PushshiftAPIBase.py:112] Not all PushShift shards are active. Query results may be incomplete.\n",
      "W0414 01:12:49.178658 4598238720 PushshiftAPIBase.py:112] Not all PushShift shards are active. Query results may be incomplete.\n"
     ]
    },
    {
     "name": "stdout",
     "output_type": "stream",
     "text": [
      "Retrieved 23 comments from Pushshift\n"
     ]
    },
    {
     "name": "stderr",
     "output_type": "stream",
     "text": [
      "W0414 01:12:49.503180 4598238720 PushshiftAPIBase.py:112] Not all PushShift shards are active. Query results may be incomplete.\n",
      "W0414 01:12:56.276613 4598238720 PushshiftAPIBase.py:112] Not all PushShift shards are active. Query results may be incomplete.\n"
     ]
    },
    {
     "name": "stdout",
     "output_type": "stream",
     "text": [
      "Retrieved 19 comments from Pushshift\n"
     ]
    },
    {
     "name": "stderr",
     "output_type": "stream",
     "text": [
      "W0414 01:12:59.266372 4598238720 PushshiftAPIBase.py:112] Not all PushShift shards are active. Query results may be incomplete.\n",
      "W0414 01:13:06.950263 4598238720 PushshiftAPIBase.py:112] Not all PushShift shards are active. Query results may be incomplete.\n"
     ]
    },
    {
     "name": "stdout",
     "output_type": "stream",
     "text": [
      "Retrieved 21 comments from Pushshift\n"
     ]
    },
    {
     "name": "stderr",
     "output_type": "stream",
     "text": [
      "W0414 01:13:21.397027 4598238720 PushshiftAPIBase.py:112] Not all PushShift shards are active. Query results may be incomplete.\n",
      "W0414 01:13:31.060307 4598238720 PushshiftAPIBase.py:112] Not all PushShift shards are active. Query results may be incomplete.\n"
     ]
    },
    {
     "name": "stdout",
     "output_type": "stream",
     "text": [
      "Retrieved 18 comments from Pushshift\n"
     ]
    },
    {
     "name": "stderr",
     "output_type": "stream",
     "text": [
      "W0414 01:13:31.475955 4598238720 PushshiftAPIBase.py:112] Not all PushShift shards are active. Query results may be incomplete.\n",
      "W0414 01:13:34.233348 4598238720 PushshiftAPIBase.py:112] Not all PushShift shards are active. Query results may be incomplete.\n",
      "W0414 01:13:38.339950 4598238720 PushshiftAPIBase.py:112] Not all PushShift shards are active. Query results may be incomplete.\n"
     ]
    },
    {
     "name": "stdout",
     "output_type": "stream",
     "text": [
      "Retrieved 26 comments from Pushshift\n"
     ]
    },
    {
     "name": "stderr",
     "output_type": "stream",
     "text": [
      "W0414 01:13:45.778610 4598238720 PushshiftAPIBase.py:112] Not all PushShift shards are active. Query results may be incomplete.\n",
      "W0414 01:13:48.499319 4598238720 PushshiftAPIBase.py:112] Not all PushShift shards are active. Query results may be incomplete.\n"
     ]
    },
    {
     "name": "stdout",
     "output_type": "stream",
     "text": [
      "Retrieved 28 comments from Pushshift\n"
     ]
    },
    {
     "name": "stderr",
     "output_type": "stream",
     "text": [
      "W0414 01:13:51.058787 4598238720 PushshiftAPIBase.py:112] Not all PushShift shards are active. Query results may be incomplete.\n",
      "W0414 01:13:56.917376 4598238720 PushshiftAPIBase.py:112] Not all PushShift shards are active. Query results may be incomplete.\n",
      "W0414 01:14:00.657608 4598238720 PushshiftAPIBase.py:112] Not all PushShift shards are active. Query results may be incomplete.\n"
     ]
    },
    {
     "name": "stdout",
     "output_type": "stream",
     "text": [
      "Retrieved 30 comments from Pushshift\n"
     ]
    },
    {
     "name": "stderr",
     "output_type": "stream",
     "text": [
      "W0414 01:14:03.112468 4598238720 PushshiftAPIBase.py:112] Not all PushShift shards are active. Query results may be incomplete.\n",
      "W0414 01:14:11.168401 4598238720 PushshiftAPIBase.py:112] Not all PushShift shards are active. Query results may be incomplete.\n"
     ]
    },
    {
     "name": "stdout",
     "output_type": "stream",
     "text": [
      "Retrieved 18 comments from Pushshift\n"
     ]
    },
    {
     "name": "stderr",
     "output_type": "stream",
     "text": [
      "W0414 01:14:25.214802 4598238720 PushshiftAPIBase.py:112] Not all PushShift shards are active. Query results may be incomplete.\n",
      "W0414 01:14:34.440855 4598238720 PushshiftAPIBase.py:112] Not all PushShift shards are active. Query results may be incomplete.\n"
     ]
    },
    {
     "name": "stdout",
     "output_type": "stream",
     "text": [
      "Retrieved 30 comments from Pushshift\n"
     ]
    },
    {
     "name": "stderr",
     "output_type": "stream",
     "text": [
      "W0414 01:14:35.520856 4598238720 PushshiftAPIBase.py:112] Not all PushShift shards are active. Query results may be incomplete.\n",
      "W0414 01:14:36.835399 4598238720 PushshiftAPIBase.py:112] Not all PushShift shards are active. Query results may be incomplete.\n",
      "W0414 01:14:39.770848 4598238720 PushshiftAPIBase.py:112] Not all PushShift shards are active. Query results may be incomplete.\n"
     ]
    },
    {
     "name": "stdout",
     "output_type": "stream",
     "text": [
      "Retrieved 20 comments from Pushshift\n"
     ]
    },
    {
     "name": "stderr",
     "output_type": "stream",
     "text": [
      "W0414 01:14:47.180325 4598238720 PushshiftAPIBase.py:112] Not all PushShift shards are active. Query results may be incomplete.\n",
      "W0414 01:14:50.611669 4598238720 PushshiftAPIBase.py:112] Not all PushShift shards are active. Query results may be incomplete.\n",
      "W0414 01:14:53.083609 4598238720 PushshiftAPIBase.py:112] Not all PushShift shards are active. Query results may be incomplete.\n"
     ]
    },
    {
     "name": "stdout",
     "output_type": "stream",
     "text": [
      "Retrieved 24 comments from Pushshift\n"
     ]
    },
    {
     "name": "stderr",
     "output_type": "stream",
     "text": [
      "W0414 01:15:00.081537 4598238720 PushshiftAPIBase.py:112] Not all PushShift shards are active. Query results may be incomplete.\n",
      "W0414 01:15:01.311368 4598238720 PushshiftAPIBase.py:112] Not all PushShift shards are active. Query results may be incomplete.\n",
      "W0414 01:15:05.465495 4598238720 PushshiftAPIBase.py:112] Not all PushShift shards are active. Query results may be incomplete.\n"
     ]
    },
    {
     "name": "stdout",
     "output_type": "stream",
     "text": [
      "Retrieved 15 comments from Pushshift\n"
     ]
    },
    {
     "name": "stderr",
     "output_type": "stream",
     "text": [
      "W0414 01:15:12.731189 4598238720 PushshiftAPIBase.py:112] Not all PushShift shards are active. Query results may be incomplete.\n",
      "W0414 01:15:26.679657 4598238720 PushshiftAPIBase.py:112] Not all PushShift shards are active. Query results may be incomplete.\n"
     ]
    },
    {
     "name": "stdout",
     "output_type": "stream",
     "text": [
      "Retrieved 28 comments from Pushshift\n"
     ]
    },
    {
     "name": "stderr",
     "output_type": "stream",
     "text": [
      "W0414 01:15:28.276378 4598238720 PushshiftAPIBase.py:112] Not all PushShift shards are active. Query results may be incomplete.\n",
      "W0414 01:15:37.018819 4598238720 PushshiftAPIBase.py:112] Not all PushShift shards are active. Query results may be incomplete.\n"
     ]
    },
    {
     "name": "stdout",
     "output_type": "stream",
     "text": [
      "Retrieved 14 comments from Pushshift\n"
     ]
    },
    {
     "name": "stderr",
     "output_type": "stream",
     "text": [
      "W0414 01:15:38.652456 4598238720 PushshiftAPIBase.py:112] Not all PushShift shards are active. Query results may be incomplete.\n",
      "W0414 01:15:40.189748 4598238720 PushshiftAPIBase.py:112] Not all PushShift shards are active. Query results may be incomplete.\n",
      "W0414 01:15:51.329309 4598238720 PushshiftAPIBase.py:112] Not all PushShift shards are active. Query results may be incomplete.\n"
     ]
    },
    {
     "name": "stdout",
     "output_type": "stream",
     "text": [
      "Retrieved 19 comments from Pushshift\n"
     ]
    },
    {
     "name": "stderr",
     "output_type": "stream",
     "text": [
      "W0414 01:15:54.377217 4598238720 PushshiftAPIBase.py:112] Not all PushShift shards are active. Query results may be incomplete.\n",
      "W0414 01:16:03.189971 4598238720 PushshiftAPIBase.py:112] Not all PushShift shards are active. Query results may be incomplete.\n"
     ]
    },
    {
     "name": "stdout",
     "output_type": "stream",
     "text": [
      "Retrieved 26 comments from Pushshift\n"
     ]
    },
    {
     "name": "stderr",
     "output_type": "stream",
     "text": [
      "W0414 01:16:03.514416 4598238720 PushshiftAPIBase.py:112] Not all PushShift shards are active. Query results may be incomplete.\n",
      "W0414 01:16:06.607977 4598238720 PushshiftAPIBase.py:112] Not all PushShift shards are active. Query results may be incomplete.\n",
      "W0414 01:16:13.161029 4598238720 PushshiftAPIBase.py:112] Not all PushShift shards are active. Query results may be incomplete.\n"
     ]
    },
    {
     "name": "stdout",
     "output_type": "stream",
     "text": [
      "Retrieved 3 comments from Pushshift\n"
     ]
    },
    {
     "name": "stderr",
     "output_type": "stream",
     "text": [
      "W0414 01:16:28.218983 4598238720 PushshiftAPIBase.py:112] Not all PushShift shards are active. Query results may be incomplete.\n",
      "W0414 01:16:37.020457 4598238720 PushshiftAPIBase.py:112] Not all PushShift shards are active. Query results may be incomplete.\n"
     ]
    },
    {
     "name": "stdout",
     "output_type": "stream",
     "text": [
      "Retrieved 85 comments from Pushshift\n"
     ]
    },
    {
     "name": "stderr",
     "output_type": "stream",
     "text": [
      "W0414 01:16:38.547404 4598238720 PushshiftAPIBase.py:112] Not all PushShift shards are active. Query results may be incomplete.\n",
      "W0414 01:16:42.694907 4598238720 PushshiftAPIBase.py:112] Not all PushShift shards are active. Query results may be incomplete.\n"
     ]
    },
    {
     "name": "stdout",
     "output_type": "stream",
     "text": [
      "Retrieved 18 comments from Pushshift\n"
     ]
    },
    {
     "name": "stderr",
     "output_type": "stream",
     "text": [
      "W0414 01:16:46.293937 4598238720 PushshiftAPIBase.py:112] Not all PushShift shards are active. Query results may be incomplete.\n",
      "W0414 01:16:52.588687 4598238720 PushshiftAPIBase.py:112] Not all PushShift shards are active. Query results may be incomplete.\n",
      "W0414 01:16:55.977805 4598238720 PushshiftAPIBase.py:112] Not all PushShift shards are active. Query results may be incomplete.\n"
     ]
    },
    {
     "name": "stdout",
     "output_type": "stream",
     "text": [
      "Retrieved 37 comments from Pushshift\n"
     ]
    },
    {
     "name": "stderr",
     "output_type": "stream",
     "text": [
      "W0414 01:16:58.423000 4598238720 PushshiftAPIBase.py:112] Not all PushShift shards are active. Query results may be incomplete.\n",
      "W0414 01:17:05.590286 4598238720 PushshiftAPIBase.py:112] Not all PushShift shards are active. Query results may be incomplete.\n"
     ]
    },
    {
     "name": "stdout",
     "output_type": "stream",
     "text": [
      "Retrieved 12 comments from Pushshift\n"
     ]
    },
    {
     "name": "stderr",
     "output_type": "stream",
     "text": [
      "W0414 01:17:07.333047 4598238720 PushshiftAPIBase.py:112] Not all PushShift shards are active. Query results may be incomplete.\n",
      "W0414 01:17:19.535929 4598238720 PushshiftAPIBase.py:112] Not all PushShift shards are active. Query results may be incomplete.\n"
     ]
    },
    {
     "name": "stdout",
     "output_type": "stream",
     "text": [
      "Retrieved 15 comments from Pushshift\n"
     ]
    },
    {
     "name": "stderr",
     "output_type": "stream",
     "text": [
      "W0414 01:17:24.847011 4598238720 PushshiftAPIBase.py:112] Not all PushShift shards are active. Query results may be incomplete.\n",
      "W0414 01:17:36.045804 4598238720 PushshiftAPIBase.py:112] Not all PushShift shards are active. Query results may be incomplete.\n"
     ]
    },
    {
     "name": "stdout",
     "output_type": "stream",
     "text": [
      "Retrieved 13 comments from Pushshift\n"
     ]
    },
    {
     "name": "stderr",
     "output_type": "stream",
     "text": [
      "W0414 01:17:39.387171 4598238720 PushshiftAPIBase.py:112] Not all PushShift shards are active. Query results may be incomplete.\n",
      "W0414 01:17:41.942848 4598238720 PushshiftAPIBase.py:112] Not all PushShift shards are active. Query results may be incomplete.\n",
      "W0414 01:17:43.069668 4598238720 PushshiftAPIBase.py:112] Not all PushShift shards are active. Query results may be incomplete.\n"
     ]
    },
    {
     "name": "stdout",
     "output_type": "stream",
     "text": [
      "Retrieved 47 comments from Pushshift\n",
      "Retrieved 0 comments from Pushshift\n"
     ]
    },
    {
     "name": "stderr",
     "output_type": "stream",
     "text": [
      "W0414 01:17:46.905985 4598238720 PushshiftAPIBase.py:112] Not all PushShift shards are active. Query results may be incomplete.\n",
      "W0414 01:17:52.797493 4598238720 PushshiftAPIBase.py:112] Not all PushShift shards are active. Query results may be incomplete.\n",
      "W0414 01:17:55.329720 4598238720 PushshiftAPIBase.py:112] Not all PushShift shards are active. Query results may be incomplete.\n"
     ]
    },
    {
     "name": "stdout",
     "output_type": "stream",
     "text": [
      "Retrieved 18 comments from Pushshift\n"
     ]
    },
    {
     "name": "stderr",
     "output_type": "stream",
     "text": [
      "W0414 01:17:57.738170 4598238720 PushshiftAPIBase.py:112] Not all PushShift shards are active. Query results may be incomplete.\n",
      "W0414 01:18:07.781475 4598238720 PushshiftAPIBase.py:112] Not all PushShift shards are active. Query results may be incomplete.\n"
     ]
    },
    {
     "name": "stdout",
     "output_type": "stream",
     "text": [
      "Retrieved 19 comments from Pushshift\n"
     ]
    },
    {
     "name": "stderr",
     "output_type": "stream",
     "text": [
      "W0414 01:18:13.279391 4598238720 PushshiftAPIBase.py:112] Not all PushShift shards are active. Query results may be incomplete.\n",
      "W0414 01:18:20.168877 4598238720 PushshiftAPIBase.py:112] Not all PushShift shards are active. Query results may be incomplete.\n"
     ]
    },
    {
     "name": "stdout",
     "output_type": "stream",
     "text": [
      "Retrieved 16 comments from Pushshift\n"
     ]
    },
    {
     "name": "stderr",
     "output_type": "stream",
     "text": [
      "W0414 01:18:26.181447 4598238720 PushshiftAPIBase.py:112] Not all PushShift shards are active. Query results may be incomplete.\n",
      "W0414 01:18:39.324490 4598238720 PushshiftAPIBase.py:112] Not all PushShift shards are active. Query results may be incomplete.\n"
     ]
    },
    {
     "name": "stdout",
     "output_type": "stream",
     "text": [
      "Retrieved 15 comments from Pushshift\n"
     ]
    },
    {
     "name": "stderr",
     "output_type": "stream",
     "text": [
      "W0414 01:18:40.886615 4598238720 PushshiftAPIBase.py:112] Not all PushShift shards are active. Query results may be incomplete.\n",
      "W0414 01:18:42.062864 4598238720 PushshiftAPIBase.py:112] Not all PushShift shards are active. Query results may be incomplete.\n",
      "W0414 01:18:43.481729 4598238720 PushshiftAPIBase.py:112] Not all PushShift shards are active. Query results may be incomplete.\n"
     ]
    },
    {
     "name": "stdout",
     "output_type": "stream",
     "text": [
      "Retrieved 16 comments from Pushshift\n"
     ]
    },
    {
     "name": "stderr",
     "output_type": "stream",
     "text": [
      "W0414 01:18:52.102411 4598238720 PushshiftAPIBase.py:112] Not all PushShift shards are active. Query results may be incomplete.\n",
      "W0414 01:18:54.119758 4598238720 PushshiftAPIBase.py:112] Not all PushShift shards are active. Query results may be incomplete.\n",
      "W0414 01:18:55.434931 4598238720 PushshiftAPIBase.py:112] Not all PushShift shards are active. Query results may be incomplete.\n"
     ]
    },
    {
     "name": "stdout",
     "output_type": "stream",
     "text": [
      "Retrieved 7 comments from Pushshift\n"
     ]
    },
    {
     "name": "stderr",
     "output_type": "stream",
     "text": [
      "W0414 01:19:03.068364 4598238720 PushshiftAPIBase.py:112] Not all PushShift shards are active. Query results may be incomplete.\n",
      "W0414 01:19:09.198267 4598238720 PushshiftAPIBase.py:112] Not all PushShift shards are active. Query results may be incomplete.\n"
     ]
    },
    {
     "name": "stdout",
     "output_type": "stream",
     "text": [
      "Retrieved 15 comments from Pushshift\n"
     ]
    },
    {
     "name": "stderr",
     "output_type": "stream",
     "text": [
      "W0414 01:19:15.062064 4598238720 PushshiftAPIBase.py:112] Not all PushShift shards are active. Query results may be incomplete.\n",
      "W0414 01:19:21.842102 4598238720 PushshiftAPIBase.py:112] Not all PushShift shards are active. Query results may be incomplete.\n"
     ]
    },
    {
     "name": "stdout",
     "output_type": "stream",
     "text": [
      "Retrieved 17 comments from Pushshift\n"
     ]
    },
    {
     "name": "stderr",
     "output_type": "stream",
     "text": [
      "W0414 01:19:28.031642 4598238720 PushshiftAPIBase.py:112] Not all PushShift shards are active. Query results may be incomplete.\n",
      "W0414 01:19:41.546921 4598238720 PushshiftAPIBase.py:112] Not all PushShift shards are active. Query results may be incomplete.\n"
     ]
    },
    {
     "name": "stdout",
     "output_type": "stream",
     "text": [
      "Retrieved 27 comments from Pushshift\n"
     ]
    },
    {
     "name": "stderr",
     "output_type": "stream",
     "text": [
      "W0414 01:19:43.185677 4598238720 PushshiftAPIBase.py:112] Not all PushShift shards are active. Query results may be incomplete.\n",
      "W0414 01:19:44.324496 4598238720 PushshiftAPIBase.py:112] Not all PushShift shards are active. Query results may be incomplete.\n",
      "W0414 01:19:46.051434 4598238720 PushshiftAPIBase.py:112] Not all PushShift shards are active. Query results may be incomplete.\n"
     ]
    },
    {
     "name": "stdout",
     "output_type": "stream",
     "text": [
      "Retrieved 8 comments from Pushshift\n"
     ]
    },
    {
     "name": "stderr",
     "output_type": "stream",
     "text": [
      "W0414 01:19:54.552320 4598238720 PushshiftAPIBase.py:112] Not all PushShift shards are active. Query results may be incomplete.\n",
      "W0414 01:19:57.115791 4598238720 PushshiftAPIBase.py:112] Not all PushShift shards are active. Query results may be incomplete.\n"
     ]
    },
    {
     "name": "stdout",
     "output_type": "stream",
     "text": [
      "Retrieved 12 comments from Pushshift\n"
     ]
    },
    {
     "name": "stderr",
     "output_type": "stream",
     "text": [
      "W0414 01:20:07.003456 4598238720 PushshiftAPIBase.py:112] Not all PushShift shards are active. Query results may be incomplete.\n",
      "W0414 01:20:09.295458 4598238720 PushshiftAPIBase.py:112] Not all PushShift shards are active. Query results may be incomplete.\n",
      "W0414 01:20:20.524706 4598238720 PushshiftAPIBase.py:112] Not all PushShift shards are active. Query results may be incomplete.\n"
     ]
    },
    {
     "name": "stdout",
     "output_type": "stream",
     "text": [
      "Retrieved 27 comments from Pushshift\n"
     ]
    },
    {
     "name": "stderr",
     "output_type": "stream",
     "text": [
      "W0414 01:20:21.182666 4598238720 PushshiftAPIBase.py:112] Not all PushShift shards are active. Query results may be incomplete.\n",
      "W0414 01:20:24.050562 4598238720 PushshiftAPIBase.py:112] Not all PushShift shards are active. Query results may be incomplete.\n",
      "W0414 01:20:29.476143 4598238720 PushshiftAPIBase.py:112] Not all PushShift shards are active. Query results may be incomplete.\n"
     ]
    },
    {
     "name": "stdout",
     "output_type": "stream",
     "text": [
      "Retrieved 21 comments from Pushshift\n"
     ]
    },
    {
     "name": "stderr",
     "output_type": "stream",
     "text": [
      "W0414 01:20:34.386389 4598238720 PushshiftAPIBase.py:112] Not all PushShift shards are active. Query results may be incomplete.\n",
      "W0414 01:20:44.728384 4598238720 PushshiftAPIBase.py:112] Not all PushShift shards are active. Query results may be incomplete.\n"
     ]
    },
    {
     "name": "stdout",
     "output_type": "stream",
     "text": [
      "Retrieved 13 comments from Pushshift\n"
     ]
    },
    {
     "name": "stderr",
     "output_type": "stream",
     "text": [
      "W0414 01:20:46.821230 4598238720 PushshiftAPIBase.py:112] Not all PushShift shards are active. Query results may be incomplete.\n",
      "W0414 01:20:48.415182 4598238720 PushshiftAPIBase.py:112] Not all PushShift shards are active. Query results may be incomplete.\n",
      "W0414 01:20:55.889929 4598238720 PushshiftAPIBase.py:112] Not all PushShift shards are active. Query results may be incomplete.\n"
     ]
    },
    {
     "name": "stdout",
     "output_type": "stream",
     "text": [
      "Retrieved 38 comments from Pushshift\n"
     ]
    },
    {
     "name": "stderr",
     "output_type": "stream",
     "text": [
      "W0414 01:20:57.523162 4598238720 PushshiftAPIBase.py:112] Not all PushShift shards are active. Query results may be incomplete.\n",
      "W0414 01:21:07.360435 4598238720 PushshiftAPIBase.py:112] Not all PushShift shards are active. Query results may be incomplete.\n"
     ]
    },
    {
     "name": "stdout",
     "output_type": "stream",
     "text": [
      "Retrieved 15 comments from Pushshift\n"
     ]
    },
    {
     "name": "stderr",
     "output_type": "stream",
     "text": [
      "W0414 01:21:08.996080 4598238720 PushshiftAPIBase.py:112] Not all PushShift shards are active. Query results may be incomplete.\n",
      "W0414 01:21:11.663237 4598238720 PushshiftAPIBase.py:112] Not all PushShift shards are active. Query results may be incomplete.\n",
      "W0414 01:21:25.847934 4598238720 PushshiftAPIBase.py:112] Not all PushShift shards are active. Query results may be incomplete.\n"
     ]
    },
    {
     "name": "stdout",
     "output_type": "stream",
     "text": [
      "Retrieved 22 comments from Pushshift\n"
     ]
    },
    {
     "name": "stderr",
     "output_type": "stream",
     "text": [
      "W0414 01:21:27.638086 4598238720 PushshiftAPIBase.py:112] Not all PushShift shards are active. Query results may be incomplete.\n",
      "W0414 01:21:34.700042 4598238720 PushshiftAPIBase.py:112] Not all PushShift shards are active. Query results may be incomplete.\n"
     ]
    },
    {
     "name": "stdout",
     "output_type": "stream",
     "text": [
      "Retrieved 26 comments from Pushshift\n"
     ]
    },
    {
     "name": "stderr",
     "output_type": "stream",
     "text": [
      "W0414 01:21:43.610399 4598238720 PushshiftAPIBase.py:112] Not all PushShift shards are active. Query results may be incomplete.\n",
      "W0414 01:21:49.146688 4598238720 PushshiftAPIBase.py:112] Not all PushShift shards are active. Query results may be incomplete.\n"
     ]
    },
    {
     "name": "stdout",
     "output_type": "stream",
     "text": [
      "Retrieved 28 comments from Pushshift\n"
     ]
    },
    {
     "name": "stderr",
     "output_type": "stream",
     "text": [
      "W0414 01:21:50.881623 4598238720 PushshiftAPIBase.py:112] Not all PushShift shards are active. Query results may be incomplete.\n",
      "W0414 01:21:57.739865 4598238720 PushshiftAPIBase.py:112] Not all PushShift shards are active. Query results may be incomplete.\n",
      "W0414 01:21:59.849397 4598238720 PushshiftAPIBase.py:112] Not all PushShift shards are active. Query results may be incomplete.\n"
     ]
    },
    {
     "name": "stdout",
     "output_type": "stream",
     "text": [
      "Retrieved 16 comments from Pushshift\n"
     ]
    },
    {
     "name": "stderr",
     "output_type": "stream",
     "text": [
      "W0414 01:22:01.126499 4598238720 PushshiftAPIBase.py:112] Not all PushShift shards are active. Query results may be incomplete.\n",
      "W0414 01:22:11.582406 4598238720 PushshiftAPIBase.py:112] Not all PushShift shards are active. Query results may be incomplete.\n"
     ]
    },
    {
     "name": "stdout",
     "output_type": "stream",
     "text": [
      "Retrieved 21 comments from Pushshift\n"
     ]
    },
    {
     "name": "stderr",
     "output_type": "stream",
     "text": [
      "W0414 01:22:13.306262 4598238720 PushshiftAPIBase.py:112] Not all PushShift shards are active. Query results may be incomplete.\n",
      "W0414 01:22:24.159399 4598238720 PushshiftAPIBase.py:112] Not all PushShift shards are active. Query results may be incomplete.\n"
     ]
    },
    {
     "name": "stdout",
     "output_type": "stream",
     "text": [
      "Retrieved 22 comments from Pushshift\n"
     ]
    },
    {
     "name": "stderr",
     "output_type": "stream",
     "text": [
      "W0414 01:22:24.676965 4598238720 PushshiftAPIBase.py:112] Not all PushShift shards are active. Query results may be incomplete.\n",
      "W0414 01:22:32.248358 4598238720 PushshiftAPIBase.py:112] Not all PushShift shards are active. Query results may be incomplete.\n"
     ]
    },
    {
     "name": "stdout",
     "output_type": "stream",
     "text": [
      "Retrieved 10 comments from Pushshift\n"
     ]
    },
    {
     "name": "stderr",
     "output_type": "stream",
     "text": [
      "W0414 01:22:36.157866 4598238720 PushshiftAPIBase.py:112] Not all PushShift shards are active. Query results may be incomplete.\n",
      "W0414 01:22:51.706221 4598238720 PushshiftAPIBase.py:112] Not all PushShift shards are active. Query results may be incomplete.\n"
     ]
    },
    {
     "name": "stdout",
     "output_type": "stream",
     "text": [
      "Retrieved 23 comments from Pushshift\n"
     ]
    },
    {
     "name": "stderr",
     "output_type": "stream",
     "text": [
      "W0414 01:22:53.821850 4598238720 PushshiftAPIBase.py:112] Not all PushShift shards are active. Query results may be incomplete.\n",
      "W0414 01:22:57.708033 4598238720 PushshiftAPIBase.py:112] Not all PushShift shards are active. Query results may be incomplete.\n",
      "W0414 01:22:58.301044 4598238720 PushshiftAPIBase.py:112] Not all PushShift shards are active. Query results may be incomplete.\n"
     ]
    },
    {
     "name": "stdout",
     "output_type": "stream",
     "text": [
      "Retrieved 50 comments from Pushshift\n"
     ]
    },
    {
     "name": "stderr",
     "output_type": "stream",
     "text": [
      "W0414 01:22:59.901886 4598238720 PushshiftAPIBase.py:112] Not all PushShift shards are active. Query results may be incomplete.\n",
      "W0414 01:23:09.834335 4598238720 PushshiftAPIBase.py:112] Not all PushShift shards are active. Query results may be incomplete.\n",
      "W0414 01:23:11.267011 4598238720 PushshiftAPIBase.py:112] Not all PushShift shards are active. Query results may be incomplete.\n"
     ]
    },
    {
     "name": "stdout",
     "output_type": "stream",
     "text": [
      "Retrieved 23 comments from Pushshift\n"
     ]
    },
    {
     "name": "stderr",
     "output_type": "stream",
     "text": [
      "W0414 01:23:13.856276 4598238720 PushshiftAPIBase.py:112] Not all PushShift shards are active. Query results may be incomplete.\n",
      "W0414 01:23:23.504113 4598238720 PushshiftAPIBase.py:112] Not all PushShift shards are active. Query results may be incomplete.\n"
     ]
    },
    {
     "name": "stdout",
     "output_type": "stream",
     "text": [
      "Retrieved 26 comments from Pushshift\n"
     ]
    },
    {
     "name": "stderr",
     "output_type": "stream",
     "text": [
      "W0414 01:23:25.092285 4598238720 PushshiftAPIBase.py:112] Not all PushShift shards are active. Query results may be incomplete.\n",
      "W0414 01:23:35.337533 4598238720 PushshiftAPIBase.py:112] Not all PushShift shards are active. Query results may be incomplete.\n"
     ]
    },
    {
     "name": "stdout",
     "output_type": "stream",
     "text": [
      "Retrieved 15 comments from Pushshift\n"
     ]
    },
    {
     "name": "stderr",
     "output_type": "stream",
     "text": [
      "W0414 01:23:35.950798 4598238720 PushshiftAPIBase.py:112] Not all PushShift shards are active. Query results may be incomplete.\n",
      "W0414 01:23:48.129600 4598238720 PushshiftAPIBase.py:112] Not all PushShift shards are active. Query results may be incomplete.\n"
     ]
    },
    {
     "name": "stdout",
     "output_type": "stream",
     "text": [
      "Retrieved 11 comments from Pushshift\n"
     ]
    },
    {
     "name": "stderr",
     "output_type": "stream",
     "text": [
      "W0414 01:23:50.074912 4598238720 PushshiftAPIBase.py:112] Not all PushShift shards are active. Query results may be incomplete.\n",
      "W0414 01:24:00.111585 4598238720 PushshiftAPIBase.py:112] Not all PushShift shards are active. Query results may be incomplete.\n"
     ]
    },
    {
     "name": "stdout",
     "output_type": "stream",
     "text": [
      "Retrieved 16 comments from Pushshift\n"
     ]
    },
    {
     "name": "stderr",
     "output_type": "stream",
     "text": [
      "W0414 01:24:01.135721 4598238720 PushshiftAPIBase.py:112] Not all PushShift shards are active. Query results may be incomplete.\n",
      "W0414 01:24:07.161814 4598238720 PushshiftAPIBase.py:112] Not all PushShift shards are active. Query results may be incomplete.\n",
      "W0414 01:24:12.090881 4598238720 PushshiftAPIBase.py:112] Not all PushShift shards are active. Query results may be incomplete.\n"
     ]
    },
    {
     "name": "stdout",
     "output_type": "stream",
     "text": [
      "Retrieved 41 comments from Pushshift\n"
     ]
    },
    {
     "name": "stderr",
     "output_type": "stream",
     "text": [
      "W0414 01:24:15.060193 4598238720 PushshiftAPIBase.py:112] Not all PushShift shards are active. Query results may be incomplete.\n",
      "W0414 01:24:23.048988 4598238720 PushshiftAPIBase.py:112] Not all PushShift shards are active. Query results may be incomplete.\n"
     ]
    },
    {
     "name": "stdout",
     "output_type": "stream",
     "text": [
      "Retrieved 33 comments from Pushshift\n"
     ]
    },
    {
     "name": "stderr",
     "output_type": "stream",
     "text": [
      "W0414 01:24:25.646903 4598238720 PushshiftAPIBase.py:112] Not all PushShift shards are active. Query results may be incomplete.\n",
      "W0414 01:24:32.419099 4598238720 PushshiftAPIBase.py:112] Not all PushShift shards are active. Query results may be incomplete.\n"
     ]
    },
    {
     "name": "stdout",
     "output_type": "stream",
     "text": [
      "Retrieved 36 comments from Pushshift\n"
     ]
    },
    {
     "name": "stderr",
     "output_type": "stream",
     "text": [
      "W0414 01:24:37.686679 4598238720 PushshiftAPIBase.py:112] Not all PushShift shards are active. Query results may be incomplete.\n",
      "W0414 01:24:48.238914 4598238720 PushshiftAPIBase.py:112] Not all PushShift shards are active. Query results may be incomplete.\n"
     ]
    },
    {
     "name": "stdout",
     "output_type": "stream",
     "text": [
      "Retrieved 26 comments from Pushshift\n"
     ]
    },
    {
     "name": "stderr",
     "output_type": "stream",
     "text": [
      "W0414 01:24:50.186017 4598238720 PushshiftAPIBase.py:112] Not all PushShift shards are active. Query results may be incomplete.\n",
      "W0414 01:24:57.413763 4598238720 PushshiftAPIBase.py:112] Not all PushShift shards are active. Query results may be incomplete.\n"
     ]
    },
    {
     "name": "stdout",
     "output_type": "stream",
     "text": [
      "Retrieved 34 comments from Pushshift\n"
     ]
    },
    {
     "name": "stderr",
     "output_type": "stream",
     "text": [
      "W0414 01:24:58.582172 4598238720 PushshiftAPIBase.py:112] Not all PushShift shards are active. Query results may be incomplete.\n",
      "W0414 01:25:07.441251 4598238720 PushshiftAPIBase.py:112] Not all PushShift shards are active. Query results may be incomplete.\n"
     ]
    },
    {
     "name": "stdout",
     "output_type": "stream",
     "text": [
      "Retrieved 21 comments from Pushshift\n"
     ]
    },
    {
     "name": "stderr",
     "output_type": "stream",
     "text": [
      "W0414 01:25:09.764773 4598238720 PushshiftAPIBase.py:112] Not all PushShift shards are active. Query results may be incomplete.\n",
      "W0414 01:25:18.753637 4598238720 PushshiftAPIBase.py:112] Not all PushShift shards are active. Query results may be incomplete.\n"
     ]
    },
    {
     "name": "stdout",
     "output_type": "stream",
     "text": [
      "Retrieved 31 comments from Pushshift\n"
     ]
    },
    {
     "name": "stderr",
     "output_type": "stream",
     "text": [
      "W0414 01:25:20.825562 4598238720 PushshiftAPIBase.py:112] Not all PushShift shards are active. Query results may be incomplete.\n",
      "W0414 01:25:30.133219 4598238720 PushshiftAPIBase.py:112] Not all PushShift shards are active. Query results may be incomplete.\n"
     ]
    },
    {
     "name": "stdout",
     "output_type": "stream",
     "text": [
      "Retrieved 36 comments from Pushshift\n"
     ]
    },
    {
     "name": "stderr",
     "output_type": "stream",
     "text": [
      "W0414 01:25:31.255182 4598238720 PushshiftAPIBase.py:112] Not all PushShift shards are active. Query results may be incomplete.\n",
      "W0414 01:25:40.855311 4598238720 PushshiftAPIBase.py:112] Not all PushShift shards are active. Query results may be incomplete.\n"
     ]
    },
    {
     "name": "stdout",
     "output_type": "stream",
     "text": [
      "Retrieved 33 comments from Pushshift\n"
     ]
    },
    {
     "name": "stderr",
     "output_type": "stream",
     "text": [
      "W0414 01:25:45.891078 4598238720 PushshiftAPIBase.py:112] Not all PushShift shards are active. Query results may be incomplete.\n",
      "W0414 01:25:52.137082 4598238720 PushshiftAPIBase.py:112] Not all PushShift shards are active. Query results may be incomplete.\n"
     ]
    },
    {
     "name": "stdout",
     "output_type": "stream",
     "text": [
      "Retrieved 12 comments from Pushshift\n"
     ]
    },
    {
     "name": "stderr",
     "output_type": "stream",
     "text": [
      "W0414 01:25:57.251904 4598238720 PushshiftAPIBase.py:112] Not all PushShift shards are active. Query results may be incomplete.\n",
      "W0414 01:26:03.764391 4598238720 PushshiftAPIBase.py:112] Not all PushShift shards are active. Query results may be incomplete.\n"
     ]
    },
    {
     "name": "stdout",
     "output_type": "stream",
     "text": [
      "Retrieved 42 comments from Pushshift\n"
     ]
    },
    {
     "name": "stderr",
     "output_type": "stream",
     "text": [
      "W0414 01:26:05.551827 4598238720 PushshiftAPIBase.py:112] Not all PushShift shards are active. Query results may be incomplete.\n",
      "W0414 01:26:17.940138 4598238720 PushshiftAPIBase.py:112] Not all PushShift shards are active. Query results may be incomplete.\n"
     ]
    },
    {
     "name": "stdout",
     "output_type": "stream",
     "text": [
      "Retrieved 27 comments from Pushshift\n"
     ]
    },
    {
     "name": "stderr",
     "output_type": "stream",
     "text": [
      "W0414 01:26:20.609906 4598238720 PushshiftAPIBase.py:112] Not all PushShift shards are active. Query results may be incomplete.\n",
      "W0414 01:26:28.183761 4598238720 PushshiftAPIBase.py:112] Not all PushShift shards are active. Query results may be incomplete.\n"
     ]
    },
    {
     "name": "stdout",
     "output_type": "stream",
     "text": [
      "Retrieved 17 comments from Pushshift\n"
     ]
    },
    {
     "name": "stderr",
     "output_type": "stream",
     "text": [
      "W0414 01:26:30.949034 4598238720 PushshiftAPIBase.py:112] Not all PushShift shards are active. Query results may be incomplete.\n",
      "W0414 01:26:37.539361 4598238720 PushshiftAPIBase.py:112] Not all PushShift shards are active. Query results may be incomplete.\n"
     ]
    },
    {
     "name": "stdout",
     "output_type": "stream",
     "text": [
      "Retrieved 42 comments from Pushshift\n"
     ]
    },
    {
     "name": "stderr",
     "output_type": "stream",
     "text": [
      "W0414 01:26:42.297644 4598238720 PushshiftAPIBase.py:112] Not all PushShift shards are active. Query results may be incomplete.\n",
      "W0414 01:26:53.064964 4598238720 PushshiftAPIBase.py:112] Not all PushShift shards are active. Query results may be incomplete.\n"
     ]
    },
    {
     "name": "stdout",
     "output_type": "stream",
     "text": [
      "Retrieved 21 comments from Pushshift\n"
     ]
    },
    {
     "name": "stderr",
     "output_type": "stream",
     "text": [
      "W0414 01:26:55.821924 4598238720 PushshiftAPIBase.py:112] Not all PushShift shards are active. Query results may be incomplete.\n",
      "W0414 01:27:06.488682 4598238720 PushshiftAPIBase.py:112] Not all PushShift shards are active. Query results may be incomplete.\n"
     ]
    },
    {
     "name": "stdout",
     "output_type": "stream",
     "text": [
      "Retrieved 30 comments from Pushshift\n"
     ]
    },
    {
     "name": "stderr",
     "output_type": "stream",
     "text": [
      "W0414 01:27:08.168829 4598238720 PushshiftAPIBase.py:112] Not all PushShift shards are active. Query results may be incomplete.\n",
      "W0414 01:27:13.045186 4598238720 PushshiftAPIBase.py:112] Not all PushShift shards are active. Query results may be incomplete.\n"
     ]
    },
    {
     "name": "stdout",
     "output_type": "stream",
     "text": [
      "Retrieved 27 comments from Pushshift\n"
     ]
    },
    {
     "name": "stderr",
     "output_type": "stream",
     "text": [
      "W0414 01:27:17.539481 4598238720 PushshiftAPIBase.py:112] Not all PushShift shards are active. Query results may be incomplete.\n",
      "W0414 01:27:22.433192 4598238720 PushshiftAPIBase.py:112] Not all PushShift shards are active. Query results may be incomplete.\n"
     ]
    },
    {
     "name": "stdout",
     "output_type": "stream",
     "text": [
      "Retrieved 24 comments from Pushshift\n"
     ]
    },
    {
     "name": "stderr",
     "output_type": "stream",
     "text": [
      "W0414 01:27:26.138855 4598238720 PushshiftAPIBase.py:112] Not all PushShift shards are active. Query results may be incomplete.\n",
      "W0414 01:27:33.526141 4598238720 PushshiftAPIBase.py:112] Not all PushShift shards are active. Query results may be incomplete.\n"
     ]
    },
    {
     "name": "stdout",
     "output_type": "stream",
     "text": [
      "Retrieved 15 comments from Pushshift\n"
     ]
    },
    {
     "name": "stderr",
     "output_type": "stream",
     "text": [
      "W0414 01:27:36.293396 4598238720 PushshiftAPIBase.py:112] Not all PushShift shards are active. Query results may be incomplete.\n",
      "W0414 01:27:43.876919 4598238720 PushshiftAPIBase.py:112] Not all PushShift shards are active. Query results may be incomplete.\n",
      "W0414 01:27:51.333425 4598238720 PushshiftAPIBase.py:112] Not all PushShift shards are active. Query results may be incomplete.\n"
     ]
    },
    {
     "name": "stdout",
     "output_type": "stream",
     "text": [
      "Retrieved 31 comments from Pushshift\n"
     ]
    },
    {
     "name": "stderr",
     "output_type": "stream",
     "text": [
      "W0414 01:27:55.214504 4598238720 PushshiftAPIBase.py:112] Not all PushShift shards are active. Query results may be incomplete.\n",
      "W0414 01:28:02.147502 4598238720 PushshiftAPIBase.py:112] Not all PushShift shards are active. Query results may be incomplete.\n"
     ]
    },
    {
     "name": "stdout",
     "output_type": "stream",
     "text": [
      "Retrieved 26 comments from Pushshift\n"
     ]
    },
    {
     "name": "stderr",
     "output_type": "stream",
     "text": [
      "W0414 01:28:05.362766 4598238720 PushshiftAPIBase.py:112] Not all PushShift shards are active. Query results may be incomplete.\n",
      "W0414 01:28:14.595127 4598238720 PushshiftAPIBase.py:112] Not all PushShift shards are active. Query results may be incomplete.\n"
     ]
    },
    {
     "name": "stdout",
     "output_type": "stream",
     "text": [
      "Retrieved 31 comments from Pushshift\n"
     ]
    },
    {
     "name": "stderr",
     "output_type": "stream",
     "text": [
      "W0414 01:28:15.692174 4598238720 PushshiftAPIBase.py:112] Not all PushShift shards are active. Query results may be incomplete.\n",
      "W0414 01:28:23.898480 4598238720 PushshiftAPIBase.py:112] Not all PushShift shards are active. Query results may be incomplete.\n"
     ]
    },
    {
     "name": "stdout",
     "output_type": "stream",
     "text": [
      "Retrieved 25 comments from Pushshift\n"
     ]
    },
    {
     "name": "stderr",
     "output_type": "stream",
     "text": [
      "W0414 01:28:25.841404 4598238720 PushshiftAPIBase.py:112] Not all PushShift shards are active. Query results may be incomplete.\n",
      "W0414 01:28:33.553843 4598238720 PushshiftAPIBase.py:112] Not all PushShift shards are active. Query results may be incomplete.\n"
     ]
    },
    {
     "name": "stdout",
     "output_type": "stream",
     "text": [
      "Retrieved 47 comments from Pushshift\n"
     ]
    },
    {
     "name": "stderr",
     "output_type": "stream",
     "text": [
      "W0414 01:28:36.388416 4598238720 PushshiftAPIBase.py:112] Not all PushShift shards are active. Query results may be incomplete.\n",
      "W0414 01:28:40.994778 4598238720 PushshiftAPIBase.py:112] Not all PushShift shards are active. Query results may be incomplete.\n",
      "W0414 01:28:47.213764 4598238720 PushshiftAPIBase.py:112] Not all PushShift shards are active. Query results may be incomplete.\n"
     ]
    },
    {
     "name": "stdout",
     "output_type": "stream",
     "text": [
      "Retrieved 20 comments from Pushshift\n"
     ]
    },
    {
     "name": "stderr",
     "output_type": "stream",
     "text": [
      "W0414 01:28:51.569556 4598238720 PushshiftAPIBase.py:112] Not all PushShift shards are active. Query results may be incomplete.\n",
      "W0414 01:29:03.743527 4598238720 PushshiftAPIBase.py:112] Not all PushShift shards are active. Query results may be incomplete.\n"
     ]
    },
    {
     "name": "stdout",
     "output_type": "stream",
     "text": [
      "Retrieved 21 comments from Pushshift\n"
     ]
    },
    {
     "name": "stderr",
     "output_type": "stream",
     "text": [
      "W0414 01:29:05.367333 4598238720 PushshiftAPIBase.py:112] Not all PushShift shards are active. Query results may be incomplete.\n",
      "W0414 01:29:14.050646 4598238720 PushshiftAPIBase.py:112] Not all PushShift shards are active. Query results may be incomplete.\n"
     ]
    },
    {
     "name": "stdout",
     "output_type": "stream",
     "text": [
      "Retrieved 28 comments from Pushshift\n"
     ]
    },
    {
     "name": "stderr",
     "output_type": "stream",
     "text": [
      "W0414 01:29:14.893935 4598238720 PushshiftAPIBase.py:112] Not all PushShift shards are active. Query results may be incomplete.\n",
      "W0414 01:29:24.708859 4598238720 PushshiftAPIBase.py:112] Not all PushShift shards are active. Query results may be incomplete.\n"
     ]
    },
    {
     "name": "stdout",
     "output_type": "stream",
     "text": [
      "Retrieved 34 comments from Pushshift\n"
     ]
    },
    {
     "name": "stderr",
     "output_type": "stream",
     "text": [
      "W0414 01:29:26.418123 4598238720 PushshiftAPIBase.py:112] Not all PushShift shards are active. Query results may be incomplete.\n",
      "W0414 01:29:36.033558 4598238720 PushshiftAPIBase.py:112] Not all PushShift shards are active. Query results may be incomplete.\n",
      "W0414 01:29:37.315087 4598238720 PushshiftAPIBase.py:112] Not all PushShift shards are active. Query results may be incomplete.\n"
     ]
    },
    {
     "name": "stdout",
     "output_type": "stream",
     "text": [
      "Retrieved 16 comments from Pushshift\n"
     ]
    },
    {
     "name": "stderr",
     "output_type": "stream",
     "text": [
      "W0414 01:29:38.884443 4598238720 PushshiftAPIBase.py:112] Not all PushShift shards are active. Query results may be incomplete.\n",
      "W0414 01:29:41.039746 4598238720 PushshiftAPIBase.py:112] Not all PushShift shards are active. Query results may be incomplete.\n",
      "W0414 01:29:48.381552 4598238720 PushshiftAPIBase.py:112] Not all PushShift shards are active. Query results may be incomplete.\n"
     ]
    },
    {
     "name": "stdout",
     "output_type": "stream",
     "text": [
      "Retrieved 26 comments from Pushshift\n"
     ]
    },
    {
     "name": "stderr",
     "output_type": "stream",
     "text": [
      "W0414 01:29:52.478330 4598238720 PushshiftAPIBase.py:112] Not all PushShift shards are active. Query results may be incomplete.\n",
      "W0414 01:30:04.342351 4598238720 PushshiftAPIBase.py:112] Not all PushShift shards are active. Query results may be incomplete.\n"
     ]
    },
    {
     "name": "stdout",
     "output_type": "stream",
     "text": [
      "Retrieved 22 comments from Pushshift\n"
     ]
    },
    {
     "name": "stderr",
     "output_type": "stream",
     "text": [
      "W0414 01:30:05.700747 4598238720 PushshiftAPIBase.py:112] Not all PushShift shards are active. Query results may be incomplete.\n",
      "W0414 01:30:15.097788 4598238720 PushshiftAPIBase.py:112] Not all PushShift shards are active. Query results may be incomplete.\n"
     ]
    },
    {
     "name": "stdout",
     "output_type": "stream",
     "text": [
      "Retrieved 16 comments from Pushshift\n"
     ]
    },
    {
     "name": "stderr",
     "output_type": "stream",
     "text": [
      "W0414 01:30:16.024447 4598238720 PushshiftAPIBase.py:112] Not all PushShift shards are active. Query results may be incomplete.\n",
      "W0414 01:30:25.149270 4598238720 PushshiftAPIBase.py:112] Not all PushShift shards are active. Query results may be incomplete.\n"
     ]
    },
    {
     "name": "stdout",
     "output_type": "stream",
     "text": [
      "Retrieved 22 comments from Pushshift\n"
     ]
    },
    {
     "name": "stderr",
     "output_type": "stream",
     "text": [
      "W0414 01:30:30.187970 4598238720 PushshiftAPIBase.py:112] Not all PushShift shards are active. Query results may be incomplete.\n",
      "W0414 01:30:38.553145 4598238720 PushshiftAPIBase.py:112] Not all PushShift shards are active. Query results may be incomplete.\n"
     ]
    },
    {
     "name": "stdout",
     "output_type": "stream",
     "text": [
      "Retrieved 14 comments from Pushshift\n"
     ]
    },
    {
     "name": "stderr",
     "output_type": "stream",
     "text": [
      "W0414 01:30:40.906785 4598238720 PushshiftAPIBase.py:112] Not all PushShift shards are active. Query results may be incomplete.\n",
      "W0414 01:30:42.249268 4598238720 PushshiftAPIBase.py:112] Not all PushShift shards are active. Query results may be incomplete.\n",
      "W0414 01:30:50.226155 4598238720 PushshiftAPIBase.py:112] Not all PushShift shards are active. Query results may be incomplete.\n"
     ]
    },
    {
     "name": "stdout",
     "output_type": "stream",
     "text": [
      "Retrieved 30 comments from Pushshift\n"
     ]
    },
    {
     "name": "stderr",
     "output_type": "stream",
     "text": [
      "W0414 01:30:54.734966 4598238720 PushshiftAPIBase.py:112] Not all PushShift shards are active. Query results may be incomplete.\n",
      "W0414 01:31:04.417129 4598238720 PushshiftAPIBase.py:112] Not all PushShift shards are active. Query results may be incomplete.\n"
     ]
    },
    {
     "name": "stdout",
     "output_type": "stream",
     "text": [
      "Retrieved 41 comments from Pushshift\n"
     ]
    },
    {
     "name": "stderr",
     "output_type": "stream",
     "text": [
      "W0414 01:31:05.458487 4598238720 PushshiftAPIBase.py:112] Not all PushShift shards are active. Query results may be incomplete.\n",
      "W0414 01:31:15.313737 4598238720 PushshiftAPIBase.py:112] Not all PushShift shards are active. Query results may be incomplete.\n"
     ]
    },
    {
     "name": "stdout",
     "output_type": "stream",
     "text": [
      "Retrieved 17 comments from Pushshift\n"
     ]
    },
    {
     "name": "stderr",
     "output_type": "stream",
     "text": [
      "W0414 01:31:19.923327 4598238720 PushshiftAPIBase.py:112] Not all PushShift shards are active. Query results may be incomplete.\n",
      "W0414 01:31:27.507246 4598238720 PushshiftAPIBase.py:112] Not all PushShift shards are active. Query results may be incomplete.\n"
     ]
    },
    {
     "name": "stdout",
     "output_type": "stream",
     "text": [
      "Retrieved 35 comments from Pushshift\n"
     ]
    },
    {
     "name": "stderr",
     "output_type": "stream",
     "text": [
      "W0414 01:31:30.966163 4598238720 PushshiftAPIBase.py:112] Not all PushShift shards are active. Query results may be incomplete.\n",
      "W0414 01:31:41.835977 4598238720 PushshiftAPIBase.py:112] Not all PushShift shards are active. Query results may be incomplete.\n"
     ]
    },
    {
     "name": "stdout",
     "output_type": "stream",
     "text": [
      "Retrieved 33 comments from Pushshift\n"
     ]
    },
    {
     "name": "stderr",
     "output_type": "stream",
     "text": [
      "W0414 01:31:42.452365 4598238720 PushshiftAPIBase.py:112] Not all PushShift shards are active. Query results may be incomplete.\n",
      "W0414 01:31:45.886193 4598238720 PushshiftAPIBase.py:112] Not all PushShift shards are active. Query results may be incomplete.\n"
     ]
    },
    {
     "name": "stdout",
     "output_type": "stream",
     "text": [
      "Retrieved 14 comments from Pushshift\n"
     ]
    },
    {
     "name": "stderr",
     "output_type": "stream",
     "text": [
      "W0414 01:31:46.587962 4598238720 PushshiftAPIBase.py:112] Not all PushShift shards are active. Query results may be incomplete.\n",
      "W0414 01:31:59.168798 4598238720 PushshiftAPIBase.py:112] Not all PushShift shards are active. Query results may be incomplete.\n"
     ]
    },
    {
     "name": "stdout",
     "output_type": "stream",
     "text": [
      "Retrieved 20 comments from Pushshift\n"
     ]
    },
    {
     "name": "stderr",
     "output_type": "stream",
     "text": [
      "W0414 01:32:03.955962 4598238720 PushshiftAPIBase.py:112] Not all PushShift shards are active. Query results may be incomplete.\n",
      "W0414 01:32:06.824289 4598238720 PushshiftAPIBase.py:112] Not all PushShift shards are active. Query results may be incomplete.\n"
     ]
    },
    {
     "name": "stdout",
     "output_type": "stream",
     "text": [
      "Retrieved 12 comments from Pushshift\n"
     ]
    },
    {
     "name": "stderr",
     "output_type": "stream",
     "text": [
      "W0414 01:32:13.272365 4598238720 PushshiftAPIBase.py:112] Not all PushShift shards are active. Query results may be incomplete.\n",
      "W0414 01:32:24.023847 4598238720 PushshiftAPIBase.py:112] Not all PushShift shards are active. Query results may be incomplete.\n"
     ]
    },
    {
     "name": "stdout",
     "output_type": "stream",
     "text": [
      "Retrieved 9 comments from Pushshift\n"
     ]
    },
    {
     "name": "stderr",
     "output_type": "stream",
     "text": [
      "W0414 01:32:25.035898 4598238720 PushshiftAPIBase.py:112] Not all PushShift shards are active. Query results may be incomplete.\n",
      "W0414 01:32:36.824877 4598238720 PushshiftAPIBase.py:112] Not all PushShift shards are active. Query results may be incomplete.\n"
     ]
    },
    {
     "name": "stdout",
     "output_type": "stream",
     "text": [
      "Retrieved 15 comments from Pushshift\n"
     ]
    },
    {
     "name": "stderr",
     "output_type": "stream",
     "text": [
      "W0414 01:32:44.689324 4598238720 PushshiftAPIBase.py:112] Not all PushShift shards are active. Query results may be incomplete.\n",
      "W0414 01:32:46.153074 4598238720 PushshiftAPIBase.py:112] Not all PushShift shards are active. Query results may be incomplete.\n",
      "W0414 01:32:47.269360 4598238720 PushshiftAPIBase.py:112] Not all PushShift shards are active. Query results may be incomplete.\n",
      "W0414 01:32:48.497969 4598238720 PushshiftAPIBase.py:112] Not all PushShift shards are active. Query results may be incomplete.\n"
     ]
    },
    {
     "name": "stdout",
     "output_type": "stream",
     "text": [
      "Retrieved 45 comments from Pushshift\n",
      "Retrieved 0 comments from Pushshift\n"
     ]
    },
    {
     "name": "stderr",
     "output_type": "stream",
     "text": [
      "W0414 01:32:50.954736 4598238720 PushshiftAPIBase.py:112] Not all PushShift shards are active. Query results may be incomplete.\n",
      "W0414 01:32:57.217598 4598238720 PushshiftAPIBase.py:112] Not all PushShift shards are active. Query results may be incomplete.\n"
     ]
    },
    {
     "name": "stdout",
     "output_type": "stream",
     "text": [
      "Retrieved 13 comments from Pushshift\n"
     ]
    },
    {
     "name": "stderr",
     "output_type": "stream",
     "text": [
      "W0414 01:33:04.784443 4598238720 PushshiftAPIBase.py:112] Not all PushShift shards are active. Query results may be incomplete.\n",
      "W0414 01:33:11.233203 4598238720 PushshiftAPIBase.py:112] Not all PushShift shards are active. Query results may be incomplete.\n"
     ]
    },
    {
     "name": "stdout",
     "output_type": "stream",
     "text": [
      "Retrieved 13 comments from Pushshift\n"
     ]
    },
    {
     "name": "stderr",
     "output_type": "stream",
     "text": [
      "W0414 01:33:15.840773 4598238720 PushshiftAPIBase.py:112] Not all PushShift shards are active. Query results may be incomplete.\n",
      "W0414 01:33:25.260020 4598238720 PushshiftAPIBase.py:112] Not all PushShift shards are active. Query results may be incomplete.\n"
     ]
    },
    {
     "name": "stdout",
     "output_type": "stream",
     "text": [
      "Retrieved 32 comments from Pushshift\n"
     ]
    },
    {
     "name": "stderr",
     "output_type": "stream",
     "text": [
      "W0414 01:33:28.747225 4598238720 PushshiftAPIBase.py:112] Not all PushShift shards are active. Query results may be incomplete.\n",
      "W0414 01:33:37.241113 4598238720 PushshiftAPIBase.py:112] Not all PushShift shards are active. Query results may be incomplete.\n"
     ]
    },
    {
     "name": "stdout",
     "output_type": "stream",
     "text": [
      "Retrieved 37 comments from Pushshift\n"
     ]
    },
    {
     "name": "stderr",
     "output_type": "stream",
     "text": [
      "W0414 01:33:46.255381 4598238720 PushshiftAPIBase.py:112] Not all PushShift shards are active. Query results may be incomplete.\n",
      "W0414 01:33:47.575947 4598238720 PushshiftAPIBase.py:112] Not all PushShift shards are active. Query results may be incomplete.\n",
      "W0414 01:33:47.998482 4598238720 PushshiftAPIBase.py:112] Not all PushShift shards are active. Query results may be incomplete.\n",
      "W0414 01:33:49.833195 4598238720 PushshiftAPIBase.py:112] Not all PushShift shards are active. Query results may be incomplete.\n"
     ]
    },
    {
     "name": "stdout",
     "output_type": "stream",
     "text": [
      "Retrieved 24 comments from Pushshift\n"
     ]
    },
    {
     "name": "stderr",
     "output_type": "stream",
     "text": [
      "W0414 01:33:56.032742 4598238720 PushshiftAPIBase.py:112] Not all PushShift shards are active. Query results may be incomplete.\n",
      "W0414 01:34:00.856232 4598238720 PushshiftAPIBase.py:112] Not all PushShift shards are active. Query results may be incomplete.\n"
     ]
    },
    {
     "name": "stdout",
     "output_type": "stream",
     "text": [
      "Retrieved 16 comments from Pushshift\n"
     ]
    },
    {
     "name": "stderr",
     "output_type": "stream",
     "text": [
      "W0414 01:34:05.286251 4598238720 PushshiftAPIBase.py:112] Not all PushShift shards are active. Query results may be incomplete.\n",
      "W0414 01:34:13.592965 4598238720 PushshiftAPIBase.py:112] Not all PushShift shards are active. Query results may be incomplete.\n",
      "W0414 01:34:16.259573 4598238720 PushshiftAPIBase.py:112] Not all PushShift shards are active. Query results may be incomplete.\n"
     ]
    },
    {
     "name": "stdout",
     "output_type": "stream",
     "text": [
      "Retrieved 26 comments from Pushshift\n"
     ]
    },
    {
     "name": "stderr",
     "output_type": "stream",
     "text": [
      "W0414 01:34:17.996977 4598238720 PushshiftAPIBase.py:112] Not all PushShift shards are active. Query results may be incomplete.\n",
      "W0414 01:34:28.435802 4598238720 PushshiftAPIBase.py:112] Not all PushShift shards are active. Query results may be incomplete.\n"
     ]
    },
    {
     "name": "stdout",
     "output_type": "stream",
     "text": [
      "Retrieved 20 comments from Pushshift\n"
     ]
    },
    {
     "name": "stderr",
     "output_type": "stream",
     "text": [
      "W0414 01:34:33.469117 4598238720 PushshiftAPIBase.py:112] Not all PushShift shards are active. Query results may be incomplete.\n",
      "W0414 01:34:39.397839 4598238720 PushshiftAPIBase.py:112] Not all PushShift shards are active. Query results may be incomplete.\n"
     ]
    },
    {
     "name": "stdout",
     "output_type": "stream",
     "text": [
      "Retrieved 34 comments from Pushshift\n"
     ]
    },
    {
     "name": "stderr",
     "output_type": "stream",
     "text": [
      "W0414 01:34:49.531514 4598238720 PushshiftAPIBase.py:112] Not all PushShift shards are active. Query results may be incomplete.\n",
      "W0414 01:34:50.675061 4598238720 PushshiftAPIBase.py:112] Not all PushShift shards are active. Query results may be incomplete.\n",
      "W0414 01:34:58.435672 4598238720 PushshiftAPIBase.py:112] Not all PushShift shards are active. Query results may be incomplete.\n"
     ]
    },
    {
     "name": "stdout",
     "output_type": "stream",
     "text": [
      "Retrieved 17 comments from Pushshift\n"
     ]
    },
    {
     "name": "stderr",
     "output_type": "stream",
     "text": [
      "W0414 01:35:00.186403 4598238720 PushshiftAPIBase.py:112] Not all PushShift shards are active. Query results may be incomplete.\n",
      "W0414 01:35:01.485097 4598238720 PushshiftAPIBase.py:112] Not all PushShift shards are active. Query results may be incomplete.\n",
      "W0414 01:35:09.299242 4598238720 PushshiftAPIBase.py:112] Not all PushShift shards are active. Query results may be incomplete.\n"
     ]
    },
    {
     "name": "stdout",
     "output_type": "stream",
     "text": [
      "Retrieved 15 comments from Pushshift\n"
     ]
    },
    {
     "name": "stderr",
     "output_type": "stream",
     "text": [
      "W0414 01:35:10.570281 4598238720 PushshiftAPIBase.py:112] Not all PushShift shards are active. Query results may be incomplete.\n",
      "W0414 01:35:16.774715 4598238720 PushshiftAPIBase.py:112] Not all PushShift shards are active. Query results may be incomplete.\n"
     ]
    },
    {
     "name": "stdout",
     "output_type": "stream",
     "text": [
      "Retrieved 23 comments from Pushshift\n"
     ]
    },
    {
     "name": "stderr",
     "output_type": "stream",
     "text": [
      "W0414 01:35:23.979393 4598238720 PushshiftAPIBase.py:112] Not all PushShift shards are active. Query results may be incomplete.\n",
      "W0414 01:35:32.991036 4598238720 PushshiftAPIBase.py:112] Not all PushShift shards are active. Query results may be incomplete.\n"
     ]
    },
    {
     "name": "stdout",
     "output_type": "stream",
     "text": [
      "Retrieved 32 comments from Pushshift\n"
     ]
    },
    {
     "name": "stderr",
     "output_type": "stream",
     "text": [
      "W0414 01:35:35.109499 4598238720 PushshiftAPIBase.py:112] Not all PushShift shards are active. Query results may be incomplete.\n",
      "W0414 01:35:41.555378 4598238720 PushshiftAPIBase.py:112] Not all PushShift shards are active. Query results may be incomplete.\n"
     ]
    },
    {
     "name": "stdout",
     "output_type": "stream",
     "text": [
      "Retrieved 28 comments from Pushshift\n"
     ]
    },
    {
     "name": "stderr",
     "output_type": "stream",
     "text": [
      "W0414 01:35:52.103407 4598238720 PushshiftAPIBase.py:112] Not all PushShift shards are active. Query results may be incomplete.\n",
      "W0414 01:36:00.819496 4598238720 PushshiftAPIBase.py:112] Not all PushShift shards are active. Query results may be incomplete.\n"
     ]
    },
    {
     "name": "stdout",
     "output_type": "stream",
     "text": [
      "Retrieved 20 comments from Pushshift\n"
     ]
    },
    {
     "name": "stderr",
     "output_type": "stream",
     "text": [
      "W0414 01:36:03.269054 4598238720 PushshiftAPIBase.py:112] Not all PushShift shards are active. Query results may be incomplete.\n",
      "W0414 01:36:05.643653 4598238720 PushshiftAPIBase.py:112] Not all PushShift shards are active. Query results may be incomplete.\n",
      "W0414 01:36:06.644046 4598238720 PushshiftAPIBase.py:112] Not all PushShift shards are active. Query results may be incomplete.\n"
     ]
    },
    {
     "name": "stdout",
     "output_type": "stream",
     "text": [
      "Retrieved 25 comments from Pushshift\n"
     ]
    },
    {
     "name": "stderr",
     "output_type": "stream",
     "text": [
      "W0414 01:36:12.994937 4598238720 PushshiftAPIBase.py:112] Not all PushShift shards are active. Query results may be incomplete.\n",
      "W0414 01:36:14.853538 4598238720 PushshiftAPIBase.py:112] Not all PushShift shards are active. Query results may be incomplete.\n",
      "W0414 01:36:18.360492 4598238720 PushshiftAPIBase.py:112] Not all PushShift shards are active. Query results may be incomplete.\n"
     ]
    },
    {
     "name": "stdout",
     "output_type": "stream",
     "text": [
      "Retrieved 26 comments from Pushshift\n"
     ]
    },
    {
     "name": "stderr",
     "output_type": "stream",
     "text": [
      "W0414 01:36:25.801662 4598238720 PushshiftAPIBase.py:112] Not all PushShift shards are active. Query results may be incomplete.\n",
      "W0414 01:36:34.804269 4598238720 PushshiftAPIBase.py:112] Not all PushShift shards are active. Query results may be incomplete.\n"
     ]
    },
    {
     "name": "stdout",
     "output_type": "stream",
     "text": [
      "Retrieved 56 comments from Pushshift\n"
     ]
    },
    {
     "name": "stderr",
     "output_type": "stream",
     "text": [
      "W0414 01:36:36.749626 4598238720 PushshiftAPIBase.py:112] Not all PushShift shards are active. Query results may be incomplete.\n",
      "W0414 01:36:41.971616 4598238720 PushshiftAPIBase.py:112] Not all PushShift shards are active. Query results may be incomplete.\n"
     ]
    },
    {
     "name": "stdout",
     "output_type": "stream",
     "text": [
      "Retrieved 17 comments from Pushshift\n"
     ]
    },
    {
     "name": "stderr",
     "output_type": "stream",
     "text": [
      "W0414 01:36:52.725103 4598238720 PushshiftAPIBase.py:112] Not all PushShift shards are active. Query results may be incomplete.\n",
      "W0414 01:37:01.868649 4598238720 PushshiftAPIBase.py:112] Not all PushShift shards are active. Query results may be incomplete.\n"
     ]
    },
    {
     "name": "stdout",
     "output_type": "stream",
     "text": [
      "Retrieved 21 comments from Pushshift\n"
     ]
    },
    {
     "name": "stderr",
     "output_type": "stream",
     "text": [
      "W0414 01:37:04.400665 4598238720 PushshiftAPIBase.py:112] Not all PushShift shards are active. Query results may be incomplete.\n",
      "W0414 01:37:06.754880 4598238720 PushshiftAPIBase.py:112] Not all PushShift shards are active. Query results may be incomplete.\n",
      "W0414 01:37:12.591707 4598238720 PushshiftAPIBase.py:112] Not all PushShift shards are active. Query results may be incomplete.\n"
     ]
    },
    {
     "name": "stdout",
     "output_type": "stream",
     "text": [
      "Retrieved 43 comments from Pushshift\n"
     ]
    },
    {
     "name": "stderr",
     "output_type": "stream",
     "text": [
      "W0414 01:37:13.820667 4598238720 PushshiftAPIBase.py:112] Not all PushShift shards are active. Query results may be incomplete.\n",
      "W0414 01:37:15.432116 4598238720 PushshiftAPIBase.py:112] Not all PushShift shards are active. Query results may be incomplete.\n",
      "W0414 01:37:23.552470 4598238720 PushshiftAPIBase.py:112] Not all PushShift shards are active. Query results may be incomplete.\n"
     ]
    },
    {
     "name": "stdout",
     "output_type": "stream",
     "text": [
      "Retrieved 30 comments from Pushshift\n"
     ]
    },
    {
     "name": "stderr",
     "output_type": "stream",
     "text": [
      "W0414 01:37:27.644392 4598238720 PushshiftAPIBase.py:112] Not all PushShift shards are active. Query results may be incomplete.\n",
      "W0414 01:37:37.372787 4598238720 PushshiftAPIBase.py:112] Not all PushShift shards are active. Query results may be incomplete.\n"
     ]
    },
    {
     "name": "stdout",
     "output_type": "stream",
     "text": [
      "Retrieved 31 comments from Pushshift\n"
     ]
    },
    {
     "name": "stderr",
     "output_type": "stream",
     "text": [
      "W0414 01:37:38.929127 4598238720 PushshiftAPIBase.py:112] Not all PushShift shards are active. Query results may be incomplete.\n",
      "W0414 01:37:41.365180 4598238720 PushshiftAPIBase.py:112] Not all PushShift shards are active. Query results may be incomplete.\n"
     ]
    },
    {
     "name": "stdout",
     "output_type": "stream",
     "text": [
      "Retrieved 23 comments from Pushshift\n"
     ]
    },
    {
     "name": "stderr",
     "output_type": "stream",
     "text": [
      "W0414 01:37:55.293406 4598238720 PushshiftAPIBase.py:112] Not all PushShift shards are active. Query results may be incomplete.\n",
      "W0414 01:38:04.246599 4598238720 PushshiftAPIBase.py:112] Not all PushShift shards are active. Query results may be incomplete.\n"
     ]
    },
    {
     "name": "stdout",
     "output_type": "stream",
     "text": [
      "Retrieved 23 comments from Pushshift\n"
     ]
    },
    {
     "name": "stderr",
     "output_type": "stream",
     "text": [
      "W0414 01:38:06.560113 4598238720 PushshiftAPIBase.py:112] Not all PushShift shards are active. Query results may be incomplete.\n",
      "W0414 01:38:16.130326 4598238720 PushshiftAPIBase.py:112] Not all PushShift shards are active. Query results may be incomplete.\n",
      "W0414 01:38:16.723267 4598238720 PushshiftAPIBase.py:112] Not all PushShift shards are active. Query results may be incomplete.\n"
     ]
    },
    {
     "name": "stdout",
     "output_type": "stream",
     "text": [
      "Retrieved 32 comments from Pushshift\n"
     ]
    },
    {
     "name": "stderr",
     "output_type": "stream",
     "text": [
      "W0414 01:38:20.903116 4598238720 PushshiftAPIBase.py:112] Not all PushShift shards are active. Query results may be incomplete.\n",
      "W0414 01:38:27.959829 4598238720 PushshiftAPIBase.py:112] Not all PushShift shards are active. Query results may be incomplete.\n"
     ]
    },
    {
     "name": "stdout",
     "output_type": "stream",
     "text": [
      "Retrieved 43 comments from Pushshift\n"
     ]
    },
    {
     "name": "stderr",
     "output_type": "stream",
     "text": [
      "W0414 01:38:30.922569 4598238720 PushshiftAPIBase.py:112] Not all PushShift shards are active. Query results may be incomplete.\n",
      "W0414 01:38:37.261293 4598238720 PushshiftAPIBase.py:112] Not all PushShift shards are active. Query results may be incomplete.\n"
     ]
    },
    {
     "name": "stdout",
     "output_type": "stream",
     "text": [
      "Retrieved 42 comments from Pushshift\n"
     ]
    },
    {
     "name": "stderr",
     "output_type": "stream",
     "text": [
      "W0414 01:38:38.612617 4598238720 PushshiftAPIBase.py:112] Not all PushShift shards are active. Query results may be incomplete.\n",
      "W0414 01:38:49.257456 4598238720 PushshiftAPIBase.py:112] Not all PushShift shards are active. Query results may be incomplete.\n",
      "W0414 01:38:54.276523 4598238720 PushshiftAPIBase.py:112] Not all PushShift shards are active. Query results may be incomplete.\n"
     ]
    },
    {
     "name": "stdout",
     "output_type": "stream",
     "text": [
      "Retrieved 23 comments from Pushshift\n"
     ]
    },
    {
     "name": "stderr",
     "output_type": "stream",
     "text": [
      "W0414 01:38:56.101153 4598238720 PushshiftAPIBase.py:112] Not all PushShift shards are active. Query results may be incomplete.\n",
      "W0414 01:39:03.639389 4598238720 PushshiftAPIBase.py:112] Not all PushShift shards are active. Query results may be incomplete.\n"
     ]
    },
    {
     "name": "stdout",
     "output_type": "stream",
     "text": [
      "Retrieved 24 comments from Pushshift\n"
     ]
    },
    {
     "name": "stderr",
     "output_type": "stream",
     "text": [
      "W0414 01:39:05.540839 4598238720 PushshiftAPIBase.py:112] Not all PushShift shards are active. Query results may be incomplete.\n",
      "W0414 01:39:16.494806 4598238720 PushshiftAPIBase.py:112] Not all PushShift shards are active. Query results may be incomplete.\n"
     ]
    },
    {
     "name": "stdout",
     "output_type": "stream",
     "text": [
      "Retrieved 38 comments from Pushshift\n"
     ]
    },
    {
     "name": "stderr",
     "output_type": "stream",
     "text": [
      "W0414 01:39:18.954255 4598238720 PushshiftAPIBase.py:112] Not all PushShift shards are active. Query results may be incomplete.\n",
      "W0414 01:39:27.266639 4598238720 PushshiftAPIBase.py:112] Not all PushShift shards are active. Query results may be incomplete.\n"
     ]
    },
    {
     "name": "stdout",
     "output_type": "stream",
     "text": [
      "Retrieved 34 comments from Pushshift\n"
     ]
    },
    {
     "name": "stderr",
     "output_type": "stream",
     "text": [
      "W0414 01:39:30.019200 4598238720 PushshiftAPIBase.py:112] Not all PushShift shards are active. Query results may be incomplete.\n",
      "W0414 01:39:39.122066 4598238720 PushshiftAPIBase.py:112] Not all PushShift shards are active. Query results may be incomplete.\n"
     ]
    },
    {
     "name": "stdout",
     "output_type": "stream",
     "text": [
      "Retrieved 33 comments from Pushshift\n"
     ]
    },
    {
     "name": "stderr",
     "output_type": "stream",
     "text": [
      "W0414 01:39:40.916994 4598238720 PushshiftAPIBase.py:112] Not all PushShift shards are active. Query results may be incomplete.\n",
      "W0414 01:39:46.604973 4598238720 PushshiftAPIBase.py:112] Not all PushShift shards are active. Query results may be incomplete.\n"
     ]
    },
    {
     "name": "stdout",
     "output_type": "stream",
     "text": [
      "Retrieved 39 comments from Pushshift\n"
     ]
    },
    {
     "name": "stderr",
     "output_type": "stream",
     "text": [
      "W0414 01:39:50.717628 4598238720 PushshiftAPIBase.py:112] Not all PushShift shards are active. Query results may be incomplete.\n",
      "W0414 01:40:04.671061 4598238720 PushshiftAPIBase.py:112] Not all PushShift shards are active. Query results may be incomplete.\n"
     ]
    },
    {
     "name": "stdout",
     "output_type": "stream",
     "text": [
      "Retrieved 45 comments from Pushshift\n"
     ]
    },
    {
     "name": "stderr",
     "output_type": "stream",
     "text": [
      "W0414 01:40:07.700361 4598238720 PushshiftAPIBase.py:112] Not all PushShift shards are active. Query results may be incomplete.\n",
      "W0414 01:40:14.981562 4598238720 PushshiftAPIBase.py:112] Not all PushShift shards are active. Query results may be incomplete.\n"
     ]
    },
    {
     "name": "stdout",
     "output_type": "stream",
     "text": [
      "Retrieved 25 comments from Pushshift\n"
     ]
    },
    {
     "name": "stderr",
     "output_type": "stream",
     "text": [
      "W0414 01:40:16.299875 4598238720 PushshiftAPIBase.py:112] Not all PushShift shards are active. Query results may be incomplete.\n",
      "W0414 01:40:23.263069 4598238720 PushshiftAPIBase.py:112] Not all PushShift shards are active. Query results may be incomplete.\n"
     ]
    },
    {
     "name": "stdout",
     "output_type": "stream",
     "text": [
      "Retrieved 29 comments from Pushshift\n"
     ]
    },
    {
     "name": "stderr",
     "output_type": "stream",
     "text": [
      "W0414 01:40:28.073629 4598238720 PushshiftAPIBase.py:112] Not all PushShift shards are active. Query results may be incomplete.\n",
      "W0414 01:40:31.557722 4598238720 PushshiftAPIBase.py:112] Not all PushShift shards are active. Query results may be incomplete.\n"
     ]
    },
    {
     "name": "stdout",
     "output_type": "stream",
     "text": [
      "Retrieved 20 comments from Pushshift\n"
     ]
    },
    {
     "name": "stderr",
     "output_type": "stream",
     "text": [
      "W0414 01:40:36.984266 4598238720 PushshiftAPIBase.py:112] Not all PushShift shards are active. Query results may be incomplete.\n",
      "W0414 01:40:46.200677 4598238720 PushshiftAPIBase.py:112] Not all PushShift shards are active. Query results may be incomplete.\n"
     ]
    },
    {
     "name": "stdout",
     "output_type": "stream",
     "text": [
      "Retrieved 45 comments from Pushshift\n"
     ]
    },
    {
     "name": "stderr",
     "output_type": "stream",
     "text": [
      "W0414 01:40:48.457960 4598238720 PushshiftAPIBase.py:112] Not all PushShift shards are active. Query results may be incomplete.\n",
      "W0414 01:40:57.030976 4598238720 PushshiftAPIBase.py:112] Not all PushShift shards are active. Query results may be incomplete.\n"
     ]
    },
    {
     "name": "stdout",
     "output_type": "stream",
     "text": [
      "Retrieved 97 comments from Pushshift\n"
     ]
    },
    {
     "name": "stderr",
     "output_type": "stream",
     "text": [
      "W0414 01:41:06.786777 4598238720 PushshiftAPIBase.py:112] Not all PushShift shards are active. Query results may be incomplete.\n",
      "W0414 01:41:09.654206 4598238720 PushshiftAPIBase.py:112] Not all PushShift shards are active. Query results may be incomplete.\n"
     ]
    },
    {
     "name": "stdout",
     "output_type": "stream",
     "text": [
      "Retrieved 100 comments from Pushshift\n"
     ]
    },
    {
     "name": "stderr",
     "output_type": "stream",
     "text": [
      "W0414 01:41:14.162647 4598238720 PushshiftAPIBase.py:112] Not all PushShift shards are active. Query results may be incomplete.\n",
      "W0414 01:41:22.754701 4598238720 PushshiftAPIBase.py:112] Not all PushShift shards are active. Query results may be incomplete.\n",
      "W0414 01:41:24.395761 4598238720 PushshiftAPIBase.py:112] Not all PushShift shards are active. Query results may be incomplete.\n"
     ]
    },
    {
     "name": "stdout",
     "output_type": "stream",
     "text": [
      "Retrieved 23 comments from Pushshift\n"
     ]
    },
    {
     "name": "stderr",
     "output_type": "stream",
     "text": [
      "W0414 01:41:26.957237 4598238720 PushshiftAPIBase.py:112] Not all PushShift shards are active. Query results may be incomplete.\n",
      "W0414 01:41:34.428837 4598238720 PushshiftAPIBase.py:112] Not all PushShift shards are active. Query results may be incomplete.\n"
     ]
    },
    {
     "name": "stdout",
     "output_type": "stream",
     "text": [
      "Retrieved 41 comments from Pushshift\n"
     ]
    },
    {
     "name": "stderr",
     "output_type": "stream",
     "text": [
      "W0414 01:41:35.358769 4598238720 PushshiftAPIBase.py:112] Not all PushShift shards are active. Query results may be incomplete.\n",
      "W0414 01:41:43.338113 4598238720 PushshiftAPIBase.py:112] Not all PushShift shards are active. Query results may be incomplete.\n",
      "W0414 01:41:43.646994 4598238720 PushshiftAPIBase.py:112] Not all PushShift shards are active. Query results may be incomplete.\n",
      "W0414 01:41:45.796756 4598238720 PushshiftAPIBase.py:112] Not all PushShift shards are active. Query results may be incomplete.\n"
     ]
    },
    {
     "name": "stdout",
     "output_type": "stream",
     "text": [
      "Retrieved 37 comments from Pushshift\n"
     ]
    },
    {
     "name": "stderr",
     "output_type": "stream",
     "text": [
      "W0414 01:41:46.516570 4598238720 PushshiftAPIBase.py:112] Not all PushShift shards are active. Query results may be incomplete.\n",
      "W0414 01:41:56.786938 4598238720 PushshiftAPIBase.py:112] Not all PushShift shards are active. Query results may be incomplete.\n"
     ]
    },
    {
     "name": "stdout",
     "output_type": "stream",
     "text": [
      "Retrieved 30 comments from Pushshift\n"
     ]
    },
    {
     "name": "stderr",
     "output_type": "stream",
     "text": [
      "W0414 01:42:00.239650 4598238720 PushshiftAPIBase.py:112] Not all PushShift shards are active. Query results may be incomplete.\n",
      "W0414 01:42:18.051772 4598238720 PushshiftAPIBase.py:112] Not all PushShift shards are active. Query results may be incomplete.\n"
     ]
    },
    {
     "name": "stdout",
     "output_type": "stream",
     "text": [
      "Retrieved 45 comments from Pushshift\n"
     ]
    },
    {
     "name": "stderr",
     "output_type": "stream",
     "text": [
      "W0414 01:42:22.355009 4598238720 PushshiftAPIBase.py:112] Not all PushShift shards are active. Query results may be incomplete.\n",
      "W0414 01:42:24.084854 4598238720 PushshiftAPIBase.py:112] Not all PushShift shards are active. Query results may be incomplete.\n",
      "W0414 01:42:24.813011 4598238720 PushshiftAPIBase.py:112] Not all PushShift shards are active. Query results may be incomplete.\n",
      "W0414 01:42:28.805360 4598238720 PushshiftAPIBase.py:112] Not all PushShift shards are active. Query results may be incomplete.\n"
     ]
    },
    {
     "name": "stdout",
     "output_type": "stream",
     "text": [
      "Retrieved 30 comments from Pushshift\n"
     ]
    },
    {
     "name": "stderr",
     "output_type": "stream",
     "text": [
      "W0414 01:42:29.525693 4598238720 PushshiftAPIBase.py:112] Not all PushShift shards are active. Query results may be incomplete.\n",
      "W0414 01:42:37.409073 4598238720 PushshiftAPIBase.py:112] Not all PushShift shards are active. Query results may be incomplete.\n",
      "W0414 01:42:40.899934 4598238720 PushshiftAPIBase.py:112] Not all PushShift shards are active. Query results may be incomplete.\n"
     ]
    },
    {
     "name": "stdout",
     "output_type": "stream",
     "text": [
      "Retrieved 74 comments from Pushshift\n"
     ]
    },
    {
     "name": "stderr",
     "output_type": "stream",
     "text": [
      "W0414 01:42:44.886466 4598238720 PushshiftAPIBase.py:112] Not all PushShift shards are active. Query results may be incomplete.\n",
      "W0414 01:42:46.421916 4598238720 PushshiftAPIBase.py:112] Not all PushShift shards are active. Query results may be incomplete.\n",
      "W0414 01:42:50.054177 4598238720 PushshiftAPIBase.py:112] Not all PushShift shards are active. Query results may be incomplete.\n"
     ]
    },
    {
     "name": "stdout",
     "output_type": "stream",
     "text": [
      "Retrieved 56 comments from Pushshift\n"
     ]
    },
    {
     "name": "stderr",
     "output_type": "stream",
     "text": [
      "W0414 01:42:53.483625 4598238720 PushshiftAPIBase.py:112] Not all PushShift shards are active. Query results may be incomplete.\n",
      "W0414 01:42:58.918217 4598238720 PushshiftAPIBase.py:112] Not all PushShift shards are active. Query results may be incomplete.\n"
     ]
    },
    {
     "name": "stdout",
     "output_type": "stream",
     "text": [
      "Retrieved 19 comments from Pushshift\n"
     ]
    },
    {
     "name": "stderr",
     "output_type": "stream",
     "text": [
      "W0414 01:43:11.874390 4598238720 PushshiftAPIBase.py:112] Not all PushShift shards are active. Query results may be incomplete.\n",
      "W0414 01:43:22.581543 4598238720 PushshiftAPIBase.py:112] Not all PushShift shards are active. Query results may be incomplete.\n"
     ]
    },
    {
     "name": "stdout",
     "output_type": "stream",
     "text": [
      "Retrieved 33 comments from Pushshift\n"
     ]
    },
    {
     "name": "stderr",
     "output_type": "stream",
     "text": [
      "W0414 01:43:23.758218 4598238720 PushshiftAPIBase.py:112] Not all PushShift shards are active. Query results may be incomplete.\n",
      "W0414 01:43:28.449120 4598238720 PushshiftAPIBase.py:112] Not all PushShift shards are active. Query results may be incomplete.\n",
      "W0414 01:43:29.223183 4598238720 PushshiftAPIBase.py:112] Not all PushShift shards are active. Query results may be incomplete.\n"
     ]
    },
    {
     "name": "stdout",
     "output_type": "stream",
     "text": [
      "Retrieved 51 comments from Pushshift\n"
     ]
    },
    {
     "name": "stderr",
     "output_type": "stream",
     "text": [
      "W0414 01:43:34.586045 4598238720 PushshiftAPIBase.py:112] Not all PushShift shards are active. Query results may be incomplete.\n",
      "W0414 01:43:38.847223 4598238720 PushshiftAPIBase.py:112] Not all PushShift shards are active. Query results may be incomplete.\n",
      "W0414 01:43:46.322110 4598238720 PushshiftAPIBase.py:112] Not all PushShift shards are active. Query results may be incomplete.\n"
     ]
    },
    {
     "name": "stdout",
     "output_type": "stream",
     "text": [
      "Retrieved 42 comments from Pushshift\n"
     ]
    },
    {
     "name": "stderr",
     "output_type": "stream",
     "text": [
      "W0414 01:43:47.399748 4598238720 PushshiftAPIBase.py:112] Not all PushShift shards are active. Query results may be incomplete.\n",
      "W0414 01:43:49.181185 4598238720 PushshiftAPIBase.py:112] Not all PushShift shards are active. Query results may be incomplete.\n",
      "W0414 01:43:51.840769 4598238720 PushshiftAPIBase.py:112] Not all PushShift shards are active. Query results may be incomplete.\n"
     ]
    },
    {
     "name": "stdout",
     "output_type": "stream",
     "text": [
      "Retrieved 33 comments from Pushshift\n"
     ]
    },
    {
     "name": "stderr",
     "output_type": "stream",
     "text": [
      "W0414 01:43:58.002902 4598238720 PushshiftAPIBase.py:112] Not all PushShift shards are active. Query results may be incomplete.\n",
      "W0414 01:44:01.533124 4598238720 PushshiftAPIBase.py:112] Not all PushShift shards are active. Query results may be incomplete.\n",
      "W0414 01:44:12.230842 4598238720 PushshiftAPIBase.py:112] Not all PushShift shards are active. Query results may be incomplete.\n"
     ]
    },
    {
     "name": "stdout",
     "output_type": "stream",
     "text": [
      "Retrieved 41 comments from Pushshift\n"
     ]
    },
    {
     "name": "stderr",
     "output_type": "stream",
     "text": [
      "W0414 01:44:16.710511 4598238720 PushshiftAPIBase.py:112] Not all PushShift shards are active. Query results may be incomplete.\n",
      "W0414 01:44:24.008529 4598238720 PushshiftAPIBase.py:112] Not all PushShift shards are active. Query results may be incomplete.\n"
     ]
    },
    {
     "name": "stdout",
     "output_type": "stream",
     "text": [
      "Retrieved 41 comments from Pushshift\n"
     ]
    },
    {
     "name": "stderr",
     "output_type": "stream",
     "text": [
      "W0414 01:44:24.621381 4598238720 PushshiftAPIBase.py:112] Not all PushShift shards are active. Query results may be incomplete.\n",
      "W0414 01:44:29.841616 4598238720 PushshiftAPIBase.py:112] Not all PushShift shards are active. Query results may be incomplete.\n",
      "W0414 01:44:38.104133 4598238720 PushshiftAPIBase.py:112] Not all PushShift shards are active. Query results may be incomplete.\n"
     ]
    },
    {
     "name": "stdout",
     "output_type": "stream",
     "text": [
      "Retrieved 21 comments from Pushshift\n"
     ]
    },
    {
     "name": "stderr",
     "output_type": "stream",
     "text": [
      "W0414 01:44:40.034618 4598238720 PushshiftAPIBase.py:112] Not all PushShift shards are active. Query results may be incomplete.\n",
      "W0414 01:44:46.736871 4598238720 PushshiftAPIBase.py:112] Not all PushShift shards are active. Query results may be incomplete.\n"
     ]
    },
    {
     "name": "stdout",
     "output_type": "stream",
     "text": [
      "Retrieved 25 comments from Pushshift\n"
     ]
    },
    {
     "name": "stderr",
     "output_type": "stream",
     "text": [
      "W0414 01:44:49.556770 4598238720 PushshiftAPIBase.py:112] Not all PushShift shards are active. Query results may be incomplete.\n",
      "W0414 01:44:51.163097 4598238720 PushshiftAPIBase.py:112] Not all PushShift shards are active. Query results may be incomplete.\n",
      "W0414 01:44:55.176970 4598238720 PushshiftAPIBase.py:112] Not all PushShift shards are active. Query results may be incomplete.\n"
     ]
    },
    {
     "name": "stdout",
     "output_type": "stream",
     "text": [
      "Retrieved 35 comments from Pushshift\n"
     ]
    },
    {
     "name": "stderr",
     "output_type": "stream",
     "text": [
      "W0414 01:45:00.878940 4598238720 PushshiftAPIBase.py:112] Not all PushShift shards are active. Query results may be incomplete.\n",
      "W0414 01:45:05.068965 4598238720 PushshiftAPIBase.py:112] Not all PushShift shards are active. Query results may be incomplete.\n"
     ]
    },
    {
     "name": "stdout",
     "output_type": "stream",
     "text": [
      "Retrieved 52 comments from Pushshift\n",
      "Retrieved 34 comments from Pushshift\n",
      "Retrieved 44 comments from Pushshift\n",
      "Retrieved 45 comments from Pushshift\n",
      "Retrieved 56 comments from Pushshift\n",
      "Retrieved 24 comments from Pushshift\n",
      "Retrieved 32 comments from Pushshift\n",
      "Retrieved 25 comments from Pushshift\n",
      "Retrieved 30 comments from Pushshift\n"
     ]
    },
    {
     "name": "stderr",
     "output_type": "stream",
     "text": [
      "W0414 01:46:53.599411 4598238720 PushshiftAPIBase.py:112] Not all PushShift shards are active. Query results may be incomplete.\n",
      "W0414 01:46:54.736389 4598238720 PushshiftAPIBase.py:112] Not all PushShift shards are active. Query results may be incomplete.\n",
      "W0414 01:46:56.886094 4598238720 PushshiftAPIBase.py:112] Not all PushShift shards are active. Query results may be incomplete.\n",
      "W0414 01:47:04.062731 4598238720 PushshiftAPIBase.py:112] Not all PushShift shards are active. Query results may be incomplete.\n"
     ]
    },
    {
     "name": "stdout",
     "output_type": "stream",
     "text": [
      "Retrieved 19 comments from Pushshift\n"
     ]
    },
    {
     "name": "stderr",
     "output_type": "stream",
     "text": [
      "W0414 01:47:08.036741 4598238720 PushshiftAPIBase.py:112] Not all PushShift shards are active. Query results may be incomplete.\n",
      "W0414 01:47:09.784626 4598238720 PushshiftAPIBase.py:112] Not all PushShift shards are active. Query results may be incomplete.\n",
      "W0414 01:47:26.672791 4598238720 PushshiftAPIBase.py:112] Not all PushShift shards are active. Query results may be incomplete.\n"
     ]
    },
    {
     "name": "stdout",
     "output_type": "stream",
     "text": [
      "Retrieved 25 comments from Pushshift\n"
     ]
    },
    {
     "name": "stderr",
     "output_type": "stream",
     "text": [
      "W0414 01:47:27.278048 4598238720 PushshiftAPIBase.py:112] Not all PushShift shards are active. Query results may be incomplete.\n",
      "W0414 01:47:31.796934 4598238720 PushshiftAPIBase.py:112] Not all PushShift shards are active. Query results may be incomplete.\n",
      "W0414 01:47:34.157931 4598238720 PushshiftAPIBase.py:112] Not all PushShift shards are active. Query results may be incomplete.\n"
     ]
    },
    {
     "name": "stdout",
     "output_type": "stream",
     "text": [
      "Retrieved 13 comments from Pushshift\n"
     ]
    },
    {
     "name": "stderr",
     "output_type": "stream",
     "text": [
      "W0414 01:47:34.491652 4598238720 PushshiftAPIBase.py:112] Not all PushShift shards are active. Query results may be incomplete.\n",
      "W0414 01:47:45.005425 4598238720 PushshiftAPIBase.py:112] Not all PushShift shards are active. Query results may be incomplete.\n"
     ]
    },
    {
     "name": "stdout",
     "output_type": "stream",
     "text": [
      "Retrieved 8 comments from Pushshift\n"
     ]
    },
    {
     "name": "stderr",
     "output_type": "stream",
     "text": [
      "W0414 01:47:50.384493 4598238720 PushshiftAPIBase.py:112] Not all PushShift shards are active. Query results may be incomplete.\n",
      "W0414 01:47:55.855964 4598238720 PushshiftAPIBase.py:112] Not all PushShift shards are active. Query results may be incomplete.\n"
     ]
    },
    {
     "name": "stdout",
     "output_type": "stream",
     "text": [
      "Retrieved 24 comments from Pushshift\n"
     ]
    },
    {
     "name": "stderr",
     "output_type": "stream",
     "text": [
      "W0414 01:47:58.009433 4598238720 PushshiftAPIBase.py:112] Not all PushShift shards are active. Query results may be incomplete.\n",
      "W0414 01:48:05.482913 4598238720 PushshiftAPIBase.py:112] Not all PushShift shards are active. Query results may be incomplete.\n",
      "W0414 01:48:07.428467 4598238720 PushshiftAPIBase.py:112] Not all PushShift shards are active. Query results may be incomplete.\n"
     ]
    },
    {
     "name": "stdout",
     "output_type": "stream",
     "text": [
      "Retrieved 8 comments from Pushshift\n"
     ]
    },
    {
     "name": "stderr",
     "output_type": "stream",
     "text": [
      "W0414 01:48:08.648733 4598238720 PushshiftAPIBase.py:112] Not all PushShift shards are active. Query results may be incomplete.\n",
      "W0414 01:48:10.193026 4598238720 PushshiftAPIBase.py:112] Not all PushShift shards are active. Query results may be incomplete.\n",
      "W0414 01:48:31.185204 4598238720 PushshiftAPIBase.py:112] Not all PushShift shards are active. Query results may be incomplete.\n"
     ]
    },
    {
     "name": "stdout",
     "output_type": "stream",
     "text": [
      "Retrieved 15 comments from Pushshift\n"
     ]
    },
    {
     "name": "stderr",
     "output_type": "stream",
     "text": [
      "W0414 01:48:32.620978 4598238720 PushshiftAPIBase.py:112] Not all PushShift shards are active. Query results may be incomplete.\n",
      "W0414 01:48:39.896464 4598238720 PushshiftAPIBase.py:112] Not all PushShift shards are active. Query results may be incomplete.\n",
      "W0414 01:48:41.015418 4598238720 PushshiftAPIBase.py:112] Not all PushShift shards are active. Query results may be incomplete.\n"
     ]
    },
    {
     "name": "stdout",
     "output_type": "stream",
     "text": [
      "Retrieved 15 comments from Pushshift\n"
     ]
    },
    {
     "name": "stderr",
     "output_type": "stream",
     "text": [
      "W0414 01:48:41.430429 4598238720 PushshiftAPIBase.py:112] Not all PushShift shards are active. Query results may be incomplete.\n",
      "W0414 01:48:54.942587 4598238720 PushshiftAPIBase.py:112] Not all PushShift shards are active. Query results may be incomplete.\n"
     ]
    },
    {
     "name": "stdout",
     "output_type": "stream",
     "text": [
      "Retrieved 26 comments from Pushshift\n"
     ]
    },
    {
     "name": "stderr",
     "output_type": "stream",
     "text": [
      "W0414 01:48:56.261585 4598238720 PushshiftAPIBase.py:112] Not all PushShift shards are active. Query results may be incomplete.\n",
      "W0414 01:49:02.109667 4598238720 PushshiftAPIBase.py:112] Not all PushShift shards are active. Query results may be incomplete.\n"
     ]
    },
    {
     "name": "stdout",
     "output_type": "stream",
     "text": [
      "Retrieved 9 comments from Pushshift\n"
     ]
    },
    {
     "name": "stderr",
     "output_type": "stream",
     "text": [
      "W0414 01:49:06.515423 4598238720 PushshiftAPIBase.py:112] Not all PushShift shards are active. Query results may be incomplete.\n",
      "W0414 01:49:10.916495 4598238720 PushshiftAPIBase.py:112] Not all PushShift shards are active. Query results may be incomplete.\n",
      "W0414 01:49:19.166499 4598238720 PushshiftAPIBase.py:112] Not all PushShift shards are active. Query results may be incomplete.\n"
     ]
    },
    {
     "name": "stdout",
     "output_type": "stream",
     "text": [
      "Retrieved 23 comments from Pushshift\n"
     ]
    },
    {
     "name": "stderr",
     "output_type": "stream",
     "text": [
      "W0414 01:49:20.542287 4598238720 PushshiftAPIBase.py:112] Not all PushShift shards are active. Query results may be incomplete.\n",
      "W0414 01:49:32.420685 4598238720 PushshiftAPIBase.py:112] Not all PushShift shards are active. Query results may be incomplete.\n"
     ]
    },
    {
     "name": "stdout",
     "output_type": "stream",
     "text": [
      "Retrieved 8 comments from Pushshift\n"
     ]
    },
    {
     "name": "stderr",
     "output_type": "stream",
     "text": [
      "W0414 01:49:34.020653 4598238720 PushshiftAPIBase.py:112] Not all PushShift shards are active. Query results may be incomplete.\n",
      "W0414 01:49:38.930160 4598238720 PushshiftAPIBase.py:112] Not all PushShift shards are active. Query results may be incomplete.\n"
     ]
    },
    {
     "name": "stdout",
     "output_type": "stream",
     "text": [
      "Retrieved 20 comments from Pushshift\n"
     ]
    },
    {
     "name": "stderr",
     "output_type": "stream",
     "text": [
      "W0414 01:49:39.590716 4598238720 PushshiftAPIBase.py:112] Not all PushShift shards are active. Query results may be incomplete.\n",
      "W0414 01:49:50.509426 4598238720 PushshiftAPIBase.py:112] Not all PushShift shards are active. Query results may be incomplete.\n"
     ]
    },
    {
     "name": "stdout",
     "output_type": "stream",
     "text": [
      "Retrieved 35 comments from Pushshift\n"
     ]
    },
    {
     "name": "stderr",
     "output_type": "stream",
     "text": [
      "W0414 01:49:57.596236 4598238720 PushshiftAPIBase.py:112] Not all PushShift shards are active. Query results may be incomplete.\n",
      "W0414 01:49:59.454040 4598238720 PushshiftAPIBase.py:112] Not all PushShift shards are active. Query results may be incomplete.\n",
      "W0414 01:50:02.426044 4598238720 PushshiftAPIBase.py:112] Not all PushShift shards are active. Query results may be incomplete.\n"
     ]
    },
    {
     "name": "stdout",
     "output_type": "stream",
     "text": [
      "Retrieved 24 comments from Pushshift\n"
     ]
    },
    {
     "name": "stderr",
     "output_type": "stream",
     "text": [
      "W0414 01:50:07.852950 4598238720 PushshiftAPIBase.py:112] Not all PushShift shards are active. Query results may be incomplete.\n",
      "W0414 01:50:11.128998 4598238720 PushshiftAPIBase.py:112] Not all PushShift shards are active. Query results may be incomplete.\n",
      "W0414 01:50:22.597486 4598238720 PushshiftAPIBase.py:112] Not all PushShift shards are active. Query results may be incomplete.\n"
     ]
    },
    {
     "name": "stdout",
     "output_type": "stream",
     "text": [
      "Retrieved 32 comments from Pushshift\n"
     ]
    },
    {
     "name": "stderr",
     "output_type": "stream",
     "text": [
      "W0414 01:50:23.522572 4598238720 PushshiftAPIBase.py:112] Not all PushShift shards are active. Query results may be incomplete.\n",
      "W0414 01:50:33.619824 4598238720 PushshiftAPIBase.py:112] Not all PushShift shards are active. Query results may be incomplete.\n"
     ]
    },
    {
     "name": "stdout",
     "output_type": "stream",
     "text": [
      "Retrieved 49 comments from Pushshift\n",
      "Retrieved 46 comments from Pushshift\n",
      "Retrieved 57 comments from Pushshift\n",
      "Retrieved 45 comments from Pushshift\n",
      "Retrieved 64 comments from Pushshift\n",
      "Retrieved 52 comments from Pushshift\n",
      "Retrieved 30 comments from Pushshift\n",
      "Retrieved 63 comments from Pushshift\n",
      "Retrieved 36 comments from Pushshift\n",
      "Retrieved 25 comments from Pushshift\n",
      "Retrieved 38 comments from Pushshift\n",
      "Retrieved 53 comments from Pushshift\n",
      "Retrieved 0 comments from Pushshift\n",
      "Retrieved 50 comments from Pushshift\n",
      "Retrieved 0 comments from Pushshift\n",
      "Retrieved 38 comments from Pushshift\n",
      "Retrieved 6 comments from Pushshift\n",
      "Retrieved 13 comments from Pushshift\n",
      "Retrieved 0 comments from Pushshift\n",
      "Retrieved 0 comments from Pushshift\n",
      "Retrieved 0 comments from Pushshift\n",
      "Retrieved 33 comments from Pushshift\n",
      "Retrieved 23 comments from Pushshift\n",
      "Retrieved 36 comments from Pushshift\n",
      "Retrieved 21 comments from Pushshift\n",
      "Retrieved 22 comments from Pushshift\n",
      "Retrieved 17 comments from Pushshift\n",
      "Retrieved 21 comments from Pushshift\n",
      "Retrieved 20 comments from Pushshift\n",
      "Retrieved 30 comments from Pushshift\n",
      "Retrieved 34 comments from Pushshift\n",
      "Retrieved 19 comments from Pushshift\n",
      "Retrieved 20 comments from Pushshift\n",
      "Retrieved 27 comments from Pushshift\n",
      "Retrieved 21 comments from Pushshift\n",
      "Retrieved 16 comments from Pushshift\n",
      "Retrieved 41 comments from Pushshift\n",
      "Retrieved 21 comments from Pushshift\n",
      "Retrieved 25 comments from Pushshift\n",
      "Retrieved 41 comments from Pushshift\n",
      "Retrieved 40 comments from Pushshift\n",
      "Retrieved 23 comments from Pushshift\n",
      "Retrieved 19 comments from Pushshift\n",
      "Retrieved 38 comments from Pushshift\n",
      "Retrieved 16 comments from Pushshift\n",
      "Retrieved 41 comments from Pushshift\n",
      "Retrieved 34 comments from Pushshift\n",
      "Retrieved 20 comments from Pushshift\n",
      "Retrieved 20 comments from Pushshift\n",
      "Retrieved 19 comments from Pushshift\n",
      "Retrieved 12 comments from Pushshift\n",
      "Retrieved 17 comments from Pushshift\n",
      "Retrieved 24 comments from Pushshift\n",
      "Retrieved 0 comments from Pushshift\n",
      "Retrieved 24 comments from Pushshift\n",
      "Retrieved 34 comments from Pushshift\n",
      "Retrieved 19 comments from Pushshift\n",
      "Retrieved 17 comments from Pushshift\n",
      "Retrieved 23 comments from Pushshift\n",
      "Retrieved 15 comments from Pushshift\n",
      "Retrieved 20 comments from Pushshift\n",
      "Retrieved 14 comments from Pushshift\n",
      "Retrieved 22 comments from Pushshift\n",
      "Retrieved 15 comments from Pushshift\n",
      "Retrieved 0 comments from Pushshift\n",
      "Retrieved 34 comments from Pushshift\n",
      "Retrieved 23 comments from Pushshift\n",
      "Retrieved 14 comments from Pushshift\n",
      "Retrieved 18 comments from Pushshift\n",
      "Retrieved 19 comments from Pushshift\n",
      "Retrieved 21 comments from Pushshift\n",
      "Retrieved 23 comments from Pushshift\n",
      "Retrieved 0 comments from Pushshift\n",
      "Retrieved 19 comments from Pushshift\n",
      "Retrieved 24 comments from Pushshift\n",
      "Retrieved 38 comments from Pushshift\n",
      "Retrieved 29 comments from Pushshift\n",
      "Retrieved 0 comments from Pushshift\n",
      "Retrieved 21 comments from Pushshift\n"
     ]
    },
    {
     "name": "stderr",
     "output_type": "stream",
     "text": [
      "W0414 02:05:43.693022 4598238720 PushshiftAPIBase.py:112] Not all PushShift shards are active. Query results may be incomplete.\n",
      "W0414 02:06:02.838419 4598238720 PushshiftAPIBase.py:112] Not all PushShift shards are active. Query results may be incomplete.\n"
     ]
    },
    {
     "name": "stdout",
     "output_type": "stream",
     "text": [
      "Retrieved 38 comments from Pushshift\n"
     ]
    },
    {
     "name": "stderr",
     "output_type": "stream",
     "text": [
      "W0414 02:06:03.707588 4598238720 PushshiftAPIBase.py:112] Not all PushShift shards are active. Query results may be incomplete.\n",
      "W0414 02:06:15.274645 4598238720 PushshiftAPIBase.py:112] Not all PushShift shards are active. Query results may be incomplete.\n"
     ]
    },
    {
     "name": "stdout",
     "output_type": "stream",
     "text": [
      "Retrieved 48 comments from Pushshift\n",
      "Retrieved 100 comments from Pushshift\n",
      "Retrieved 72 comments from Pushshift\n",
      "Retrieved 0 comments from Pushshift\n",
      "Retrieved 4 comments from Pushshift\n",
      "Retrieved 33 comments from Pushshift\n",
      "Retrieved 42 comments from Pushshift\n",
      "Retrieved 0 comments from Pushshift\n",
      "Retrieved 0 comments from Pushshift\n",
      "Retrieved 0 comments from Pushshift\n",
      "Retrieved 0 comments from Pushshift\n",
      "Retrieved 23 comments from Pushshift\n",
      "Retrieved 25 comments from Pushshift\n",
      "Retrieved 14 comments from Pushshift\n",
      "Retrieved 20 comments from Pushshift\n",
      "Retrieved 13 comments from Pushshift\n",
      "Retrieved 24 comments from Pushshift\n",
      "Retrieved 25 comments from Pushshift\n",
      "Retrieved 35 comments from Pushshift\n",
      "Retrieved 13 comments from Pushshift\n",
      "Retrieved 46 comments from Pushshift\n",
      "Retrieved 27 comments from Pushshift\n",
      "Retrieved 43 comments from Pushshift\n",
      "Retrieved 24 comments from Pushshift\n",
      "Retrieved 0 comments from Pushshift\n",
      "Retrieved 0 comments from Pushshift\n",
      "Retrieved 23 comments from Pushshift\n",
      "Retrieved 26 comments from Pushshift\n",
      "Retrieved 20 comments from Pushshift\n",
      "Retrieved 20 comments from Pushshift\n",
      "Retrieved 5 comments from Pushshift\n",
      "Retrieved 0 comments from Pushshift\n",
      "Retrieved 11 comments from Pushshift\n",
      "Retrieved 20 comments from Pushshift\n",
      "Retrieved 19 comments from Pushshift\n",
      "Retrieved 23 comments from Pushshift\n",
      "Retrieved 27 comments from Pushshift\n",
      "Retrieved 39 comments from Pushshift\n",
      "Retrieved 24 comments from Pushshift\n",
      "Retrieved 21 comments from Pushshift\n",
      "Retrieved 15 comments from Pushshift\n",
      "Retrieved 19 comments from Pushshift\n",
      "Retrieved 34 comments from Pushshift\n",
      "Retrieved 13 comments from Pushshift\n",
      "Retrieved 28 comments from Pushshift\n",
      "Retrieved 35 comments from Pushshift\n",
      "Retrieved 61 comments from Pushshift\n",
      "Retrieved 28 comments from Pushshift\n",
      "Retrieved 30 comments from Pushshift\n",
      "Retrieved 29 comments from Pushshift\n",
      "Retrieved 13 comments from Pushshift\n",
      "Retrieved 15 comments from Pushshift\n",
      "Retrieved 39 comments from Pushshift\n",
      "Retrieved 32 comments from Pushshift\n",
      "Retrieved 22 comments from Pushshift\n",
      "Retrieved 48 comments from Pushshift\n",
      "Retrieved 25 comments from Pushshift\n",
      "Retrieved 20 comments from Pushshift\n",
      "Retrieved 16 comments from Pushshift\n",
      "Retrieved 30 comments from Pushshift\n",
      "Retrieved 21 comments from Pushshift\n",
      "Retrieved 14 comments from Pushshift\n",
      "Retrieved 21 comments from Pushshift\n",
      "Retrieved 0 comments from Pushshift\n",
      "Retrieved 0 comments from Pushshift\n",
      "Retrieved 22 comments from Pushshift\n",
      "Retrieved 22 comments from Pushshift\n",
      "Retrieved 18 comments from Pushshift\n",
      "Retrieved 6 comments from Pushshift\n"
     ]
    }
   ],
   "source": [
    "# Scraping \n",
    "reddit_texts = {}\n",
    "\n",
    "with open(\"reddit_sentiment.csv\") as f:\n",
    "    reader = csv.reader(f, delimiter=\"\\t\")\n",
    "    for i, line in enumerate(reader):\n",
    "        if line != ['date']:\n",
    "            # Get Pre-defined Game Day\n",
    "            year, month, day = line[0].split(\"-\")\n",
    "            \n",
    "            # set before and after date\n",
    "            before = int(dt.datetime(int(year), int(month), int(day), 23, 59).timestamp())\n",
    "            after  = int(dt.datetime(int(year), int(month), int(day), 0, 0).timestamp())\n",
    "            \n",
    "            # Get Posts\n",
    "            subreddit=\"rockets\"\n",
    "            limit=100\n",
    "            posts = api.search_submissions(subreddit=subreddit, limit=limit, before=before, after=after)\n",
    "            print(f'Retrieved {len(posts)} posts from Pushshift')\n",
    "            \n",
    "            if len(posts) != 0:\n",
    "                # Put in df\n",
    "                posts_df = pd.DataFrame(posts)\n",
    "\n",
    "                # Get Texts\n",
    "                reddit_texts[line[0]] = [x for x in posts_df['title']] #or text = ' '.join(posts_df['title'])           "
   ]
  },
  {
   "cell_type": "code",
   "execution_count": 73,
   "metadata": {},
   "outputs": [],
   "source": [
    "# Save a copy\n",
    "# json.dump(reddit_texts, open(\"reddit_scrape_posts.json\", \"w\"))"
   ]
  },
  {
   "cell_type": "code",
   "execution_count": 86,
   "metadata": {},
   "outputs": [],
   "source": [
    "# resume from last session\n",
    "with open('reddit_scrape_posts.json', 'r') as f:\n",
    "     reddit_texts = json.load(f)"
   ]
  },
  {
   "cell_type": "markdown",
   "metadata": {},
   "source": [
    "### Sentiment Analysis\n",
    "\n",
    "Key Resources\n",
    "* Textblob"
   ]
  },
  {
   "cell_type": "code",
   "execution_count": null,
   "metadata": {},
   "outputs": [],
   "source": [
    "! pip3 install textblob"
   ]
  },
  {
   "cell_type": "code",
   "execution_count": 129,
   "metadata": {},
   "outputs": [],
   "source": [
    "from textblob import TextBlob\n",
    "import statistics"
   ]
  },
  {
   "cell_type": "code",
   "execution_count": 137,
   "metadata": {},
   "outputs": [],
   "source": [
    "# Get Post Sentiment Scores\n",
    "reddit_sentiment = {}\n",
    "\n",
    "for date in reddit_texts:\n",
    "    polarity = []\n",
    "    subjectivity = []\n",
    "\n",
    "    for title in reddit_texts[date]:\n",
    "        score = TextBlob(title)\n",
    "        polarity.append(score.sentiment[0])\n",
    "        subjectivity.append(score.sentiment[1])\n",
    "    \n",
    "    reddit_sentiment[date] = statistics.mean(polarity)"
   ]
  },
  {
   "cell_type": "code",
   "execution_count": 139,
   "metadata": {},
   "outputs": [],
   "source": [
    "json.dump(reddit_sentiment, open(\"reddit_sentiment_scores.json\", \"w\"))"
   ]
  }
 ],
 "metadata": {
  "kernelspec": {
   "display_name": "Python 3",
   "language": "python",
   "name": "python3"
  },
  "language_info": {
   "codemirror_mode": {
    "name": "ipython",
    "version": 3
   },
   "file_extension": ".py",
   "mimetype": "text/x-python",
   "name": "python",
   "nbconvert_exporter": "python",
   "pygments_lexer": "ipython3",
   "version": "3.7.5"
  }
 },
 "nbformat": 4,
 "nbformat_minor": 2
}
